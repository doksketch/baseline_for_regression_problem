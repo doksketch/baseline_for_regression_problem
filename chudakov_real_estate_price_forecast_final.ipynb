{
 "cells": [
  {
   "cell_type": "markdown",
   "metadata": {},
   "source": [
    "# Предсказание цены на недвижимость"
   ]
  },
  {
   "cell_type": "code",
   "execution_count": 273,
   "metadata": {},
   "outputs": [],
   "source": [
    "import numpy as np\n",
    "import pandas as pd\n",
    "import matplotlib.pyplot as plt\n",
    "import seaborn as sns\n",
    "from sklearn.preprocessing import StandardScaler\n",
    "from sklearn.ensemble import GradientBoostingRegressor\n",
    "from sklearn.metrics import r2_score\n",
    "from sklearn.model_selection import KFold\n",
    "from sklearn.model_selection import cross_val_score\n",
    "from sklearn.ensemble import RandomForestRegressor\n",
    "from lightgbm import LGBMRegressor\n",
    "from xgboost import XGBRegressor\n",
    "from catboost import CatBoostRegressor\n",
    "from sklearn.ensemble import VotingRegressor"
   ]
  },
  {
   "cell_type": "code",
   "execution_count": 274,
   "metadata": {},
   "outputs": [],
   "source": [
    "import warnings\n",
    "warnings.filterwarnings('ignore')"
   ]
  },
  {
   "cell_type": "markdown",
   "metadata": {},
   "source": [
    "**Описание датасета**\n",
    "\n",
    "Статистические данные о недвижимости.   \n",
    "\n",
    "* **Id** - идентификационный номер недвижимости\n",
    "* **DistrictId** - идентификационный номер района\n",
    "* **Rooms** - количество комнат\n",
    "* **Square** - площадь\n",
    "* **LifeSquare** - жилая площадь\n",
    "* **KitchenSquare** - площадь кухни\n",
    "* **Floor** - этаж\n",
    "* **HouseFloor** - количество этажей в доме\n",
    "* **HouseYear** -  год постройки дома\n",
    "* **Ecology_1, Ecology_2, Ecology_3** - экологические показатели местности\n",
    "* **Social_1, Social_2, Social_3** - социальные показатели местности\n",
    "* **Healthcare_1, Helthcare_2** - показатели местности, связанные с охраной здоровья\n",
    "* **Shops_1, Shops_2** - показатели, связанные с наличием магазинов, торговых центров\n",
    "* **Price** - цена недвижимости"
   ]
  },
  {
   "cell_type": "code",
   "execution_count": 313,
   "metadata": {},
   "outputs": [
    {
     "name": "stdout",
     "output_type": "stream",
     "text": [
      "<class 'pandas.core.frame.DataFrame'>\n",
      "RangeIndex: 10000 entries, 0 to 9999\n",
      "Data columns (total 20 columns):\n",
      "Id               10000 non-null int64\n",
      "DistrictId       10000 non-null int64\n",
      "Rooms            10000 non-null float64\n",
      "Square           10000 non-null float64\n",
      "LifeSquare       7887 non-null float64\n",
      "KitchenSquare    10000 non-null float64\n",
      "Floor            10000 non-null int64\n",
      "HouseFloor       10000 non-null float64\n",
      "HouseYear        10000 non-null int64\n",
      "Ecology_1        10000 non-null float64\n",
      "Ecology_2        10000 non-null object\n",
      "Ecology_3        10000 non-null object\n",
      "Social_1         10000 non-null int64\n",
      "Social_2         10000 non-null int64\n",
      "Social_3         10000 non-null int64\n",
      "Healthcare_1     5202 non-null float64\n",
      "Helthcare_2      10000 non-null int64\n",
      "Shops_1          10000 non-null int64\n",
      "Shops_2          10000 non-null object\n",
      "Price            10000 non-null float64\n",
      "dtypes: float64(8), int64(9), object(3)\n",
      "memory usage: 1.5+ MB\n"
     ]
    }
   ],
   "source": [
    "train_df = pd.read_csv('train.csv', encoding='utf-8')\n",
    "train_df.info()"
   ]
  },
  {
   "cell_type": "code",
   "execution_count": 314,
   "metadata": {},
   "outputs": [
    {
     "name": "stdout",
     "output_type": "stream",
     "text": [
      "<class 'pandas.core.frame.DataFrame'>\n",
      "RangeIndex: 5000 entries, 0 to 4999\n",
      "Data columns (total 19 columns):\n",
      "Id               5000 non-null int64\n",
      "DistrictId       5000 non-null int64\n",
      "Rooms            5000 non-null float64\n",
      "Square           5000 non-null float64\n",
      "LifeSquare       3959 non-null float64\n",
      "KitchenSquare    5000 non-null float64\n",
      "Floor            5000 non-null int64\n",
      "HouseFloor       5000 non-null float64\n",
      "HouseYear        5000 non-null int64\n",
      "Ecology_1        5000 non-null float64\n",
      "Ecology_2        5000 non-null object\n",
      "Ecology_3        5000 non-null object\n",
      "Social_1         5000 non-null int64\n",
      "Social_2         5000 non-null int64\n",
      "Social_3         5000 non-null int64\n",
      "Healthcare_1     2623 non-null float64\n",
      "Helthcare_2      5000 non-null int64\n",
      "Shops_1          5000 non-null int64\n",
      "Shops_2          5000 non-null object\n",
      "dtypes: float64(7), int64(9), object(3)\n",
      "memory usage: 742.3+ KB\n"
     ]
    }
   ],
   "source": [
    "test_df = pd.read_csv('test.csv', encoding='utf-8')\n",
    "test_df.info()"
   ]
  },
  {
   "cell_type": "markdown",
   "metadata": {},
   "source": [
    "**Удаление дубликатов и определение меток пропущенных значений**"
   ]
  },
  {
   "cell_type": "code",
   "execution_count": 222,
   "metadata": {},
   "outputs": [],
   "source": [
    "def drop_duplicates(df):\n",
    "    df.drop_duplicates(keep=False)\n",
    "    return df.shape"
   ]
  },
  {
   "cell_type": "code",
   "execution_count": 223,
   "metadata": {},
   "outputs": [],
   "source": [
    "def nominal_variables_count(df):\n",
    "    for key, value in df.iteritems():\n",
    "        if df.dtypes[key] == 'object':\n",
    "            print(df[key].value_counts())"
   ]
  },
  {
   "cell_type": "code",
   "execution_count": 224,
   "metadata": {},
   "outputs": [],
   "source": [
    "def numerical_unique_values(df):\n",
    "    for key, value in df.iteritems():\n",
    "        if df.dtypes[key] == 'float64' or df.dtypes[key] == 'int64':\n",
    "            print(key, df[key].unique())"
   ]
  },
  {
   "cell_type": "code",
   "execution_count": 225,
   "metadata": {},
   "outputs": [
    {
     "data": {
      "text/plain": [
       "(10000, 20)"
      ]
     },
     "execution_count": 225,
     "metadata": {},
     "output_type": "execute_result"
    }
   ],
   "source": [
    "drop_duplicates(train_df)"
   ]
  },
  {
   "cell_type": "code",
   "execution_count": 226,
   "metadata": {},
   "outputs": [
    {
     "data": {
      "text/plain": [
       "(5000, 19)"
      ]
     },
     "execution_count": 226,
     "metadata": {},
     "output_type": "execute_result"
    }
   ],
   "source": [
    "drop_duplicates(test_df)"
   ]
  },
  {
   "cell_type": "code",
   "execution_count": 227,
   "metadata": {},
   "outputs": [
    {
     "name": "stdout",
     "output_type": "stream",
     "text": [
      "B    9903\n",
      "A      97\n",
      "Name: Ecology_2, dtype: int64\n",
      "B    9725\n",
      "A     275\n",
      "Name: Ecology_3, dtype: int64\n",
      "B    9175\n",
      "A     825\n",
      "Name: Shops_2, dtype: int64\n"
     ]
    }
   ],
   "source": [
    "nominal_variables_count(train_df)"
   ]
  },
  {
   "cell_type": "code",
   "execution_count": 228,
   "metadata": {},
   "outputs": [
    {
     "name": "stdout",
     "output_type": "stream",
     "text": [
      "B    4952\n",
      "A      48\n",
      "Name: Ecology_2, dtype: int64\n",
      "B    4851\n",
      "A     149\n",
      "Name: Ecology_3, dtype: int64\n",
      "B    4588\n",
      "A     412\n",
      "Name: Shops_2, dtype: int64\n"
     ]
    }
   ],
   "source": [
    "nominal_variables_count(test_df)"
   ]
  },
  {
   "cell_type": "code",
   "execution_count": 229,
   "metadata": {},
   "outputs": [
    {
     "name": "stdout",
     "output_type": "stream",
     "text": [
      "Id [14038 15053  4765 ...  5123  5400  6306]\n",
      "DistrictId [ 35  41  53  58  99  59 154  74   1  23  28  31  13  57  27  85  34  19\n",
      "   0  48  54 150  11  50  61  44  90 200  43 177 101  38  21 103  98 170\n",
      "  94   5  88  47   6  52  62  77  79   9 156  69 108  96 169  18 148 128\n",
      "  10 144 120  39   7  84 123 159  70 129   3  95  78  45  15 121  49  25\n",
      "   2 127  56 109  46  17 119  80  86  83 137  91  92 118 187  36 106 161\n",
      "  22  63 167 113  66  29  37  20   8 181  40  93  30  81 107 130 100  12\n",
      " 125  67  26  89  24 111 138  64 124 183  55 157 151  33  87 126 155 164\n",
      " 105 110 132  71  73 189  75 122 163 141  76 115 139 143 201 165 190 193\n",
      " 174  60 114 172 134 117 149 153 131 145  82 160  42  32 133 208 171 176\n",
      " 173 147  97 142 195 180 196 112  72 175   4 186 146 191 168 192  14 199\n",
      " 136 162 179 188 135 140  16  51 178 104  68 152 194 116 207 185  65 102\n",
      " 166 182 202 184 205 209 158]\n",
      "Rooms [ 2.  3.  1.  4. 10.  0.  5. 19.  6.]\n",
      "Square [47.98156124 65.68363987 44.94795276 ... 47.93900767 43.60256155\n",
      " 38.66664497]\n",
      "LifeSquare [29.44275055 40.04954252 29.19761169 ... 20.53921593 33.84014746\n",
      " 21.15787441]\n",
      "KitchenSquare [6.000e+00 8.000e+00 0.000e+00 9.000e+00 7.000e+00 1.200e+01 1.000e+00\n",
      " 5.000e+00 1.100e+01 1.000e+01 1.500e+01 1.300e+01 7.200e+01 4.000e+00\n",
      " 1.700e+01 1.900e+01 1.600e+01 4.800e+01 2.200e+01 1.400e+01 2.014e+03\n",
      " 3.700e+01 6.600e+01 7.800e+01 3.000e+00 5.300e+01 4.300e+01 2.000e+01\n",
      " 2.600e+01 2.300e+01 9.600e+01 1.120e+02 2.000e+00 3.000e+01 3.600e+01\n",
      " 4.200e+01 6.300e+01 6.000e+01 4.100e+01 1.800e+01 3.100e+01 7.300e+01\n",
      " 5.800e+01 3.500e+01 3.200e+01 2.900e+01 4.000e+01 6.200e+01 5.100e+01\n",
      " 7.500e+01 8.400e+01 2.500e+01 2.100e+01 5.400e+01 1.970e+03 2.700e+01\n",
      " 3.900e+01 1.230e+02]\n",
      "Floor [ 7  8 11  5  3 14  9 13  1  6  4 16 12 15 19  2 17 20 10 18 26 23 22 24\n",
      " 21 25 32 28 27 42 31 37 33]\n",
      "HouseFloor [  9.  12.  17.   5.   0.   8.   4.  14.  25.   1.  22.  16.  15.   3.\n",
      "  10.  11.   7.  24.  28.  19.  20.  18.  23.   2.  32.  40.  27.  21.\n",
      "  13.  45.  30.   6.  37.  48.  47.  44.  39.  36.  29.  99.  38. 117.\n",
      "  26.  31.]\n",
      "HouseYear [    1969     1978     1968     1977     1976     2011     1960     2014\n",
      "     1973     1959     1999     1980     1979     1983     2001     2012\n",
      "     2002     1996     1964     2018     1972     1965     1984     1961\n",
      "     1971     1963     2017     1970     1981     2003     2016     1991\n",
      "     1975     2006     2009     1985     1974     1994     2000     1987\n",
      "     1998     2005     1990     1982     1997     2015     2008     2010\n",
      "     2004     2007     1967     1957     1962     1993     1966     1955\n",
      "     1937     1992     1954     1995     2019     1948     1986     2013\n",
      "     1989     1958     1938     1956     1988     2020     1951     1952\n",
      "     1935     1914     1932     1950     1917     1918     1940 20052011\n",
      "     1942     1939     1934     1931     1919     1912     1953     1936\n",
      "     1947     1929     4968     1930     1933     1941     1916     1910\n",
      "     1928]\n",
      "Ecology_1 [8.90397190e-02 6.99893000e-05 4.96372570e-02 4.37885240e-01\n",
      " 1.23388860e-02 3.09479124e-01 4.60556389e-01 7.57787550e-02\n",
      " 7.12231700e-03 1.18537385e-01 0.00000000e+00 9.07991030e-02\n",
      " 1.33215333e-01 7.21575810e-02 3.71778180e-02 5.18154350e-02\n",
      " 6.97533610e-02 9.91363000e-04 3.19809354e-01 2.11401214e-01\n",
      " 4.11246340e-02 6.07615200e-03 2.07413260e-02 3.46560820e-02\n",
      " 1.69676000e-04 7.65851500e-03 3.00322518e-01 1.76470530e-02\n",
      " 3.61222920e-02 2.65088676e-01 1.50168920e-02 3.34937080e-02\n",
      " 2.25824954e-01 6.07530490e-02 1.94489265e-01 1.44231140e-02\n",
      " 1.40729610e-02 1.95781053e-01 2.18439740e-01 2.82797669e-01\n",
      " 1.75054867e-01 1.50817539e-01 5.76745100e-03 1.27375905e-01\n",
      " 2.43204519e-01 3.71148999e-01 1.51346216e-01 1.69091090e-01\n",
      " 1.36244425e-01 4.11163540e-02 2.10473241e-01 3.13924552e-01\n",
      " 3.06977489e-01 3.41071945e-01 4.28825818e-01 1.49666373e-01\n",
      " 1.61531741e-01 2.56091570e-02 2.21166500e-03 9.22906420e-02\n",
      " 1.58249043e-01 2.12515361e-01 1.95087960e-02 4.86245621e-01\n",
      " 7.54236800e-02 1.78916796e-01 2.98204575e-01 5.21867054e-01\n",
      " 1.88783766e-01 9.34425640e-02 1.22190486e-01 9.95363000e-04\n",
      " 3.51452670e-02 1.01872465e-01 7.72028200e-03 1.61975568e-01\n",
      " 1.00455735e-01 2.00146802e-01 3.33891544e-01 1.30617806e-01\n",
      " 8.76190900e-02 2.46031548e-01 6.99119000e-04 2.38617130e-01\n",
      " 5.02720140e-02 3.43314970e-02 5.07555690e-02 1.11627393e-01\n",
      " 8.68852650e-02 4.58174486e-01 1.36330300e-01 7.81528000e-05\n",
      " 5.09000580e-02 1.74739084e-01 1.16541270e-02 4.02427640e-02\n",
      " 1.30122770e-01 3.86771659e-01 3.86929870e-02 1.22090347e-01\n",
      " 3.73164520e-02 4.13654460e-02 6.96603440e-02 2.36108458e-01\n",
      " 4.23072710e-02 1.48903891e-01 5.19420620e-02 3.07466659e-01\n",
      " 2.19006007e-01 4.20315870e-02 1.35649789e-01 3.10199130e-01\n",
      " 4.98633870e-02 8.19434630e-02 3.27018035e-01 3.94094211e-01\n",
      " 3.62700890e-02 1.40579200e-02 4.07276235e-01 1.80000000e-09\n",
      " 2.32205084e-01 1.27811589e-01 1.45807160e-02 4.94935800e-03\n",
      " 1.97367951e-01 2.46623602e-01 1.43339470e-02 1.25216340e-02\n",
      " 1.13198100e-02]\n",
      "Social_1 [33 46 34 23 35 20  6  1 30 74 49  2 52  5 53 25  9 24  0 36 37 17 66 41\n",
      " 15 47 19 21 16 43 32 11 22 27 39  7 13 18 31 42 38  8 14 26 50 10  4 28\n",
      " 29 12  3]\n",
      "Social_2 [ 7976 10309  7759  5735  5776  7715  4386  1437   264  6207  3684 19083\n",
      " 11395   629 11217  1227 13670  6783  4756  1892  9515  5285  5613   168\n",
      "  5992  7077 10311   469  4378  5288  7425  3079  6714 10573  6558  2787\n",
      "  8004  3806   475  5212  4472  8667 10055  3433   388  8429  1564  7065\n",
      "  5889  3856  2370 14892  2398  5562  4625  4798  5148  5664  5011  5067\n",
      "  4789 11319  5648  5261  7614  1660  4346  5731  3293  7687  2514  3097\n",
      "  3594  4048  5027  6149  6137  4635  4724  7651  9292  4583  4788  7010\n",
      "  7227  3975  6564 10418  1497  3151  3369  3889  2733  4231  5487  5469\n",
      " 12238  2277  4439  6141  7538  3374  6398 10621  1423  3379   915  3478\n",
      "  1986  1135  6533  6566  6748  5569  6119  3893  2810  1952  4017  5048\n",
      "  6746  6856  7960  2748  3746  2738  2270   662  1318   290  1768  3681\n",
      "  4860  7287  8647   760   186  2423  2940   528   507   568]\n",
      "Social_3 [  5   1   0   3   4  14   2  16  56   6  59   7  10  11  48   8  39  19\n",
      "   9  24  87 141  37  93  27  84  20  23  73  45]\n",
      "Healthcare_1 [  nan  240.  229. 1084. 2078.  990. 1183. 1406. 2300. 2857.  645. 1340.\n",
      " 2301. 1036. 1937. 2890. 2672. 1322. 1548.  520.  125. 1450. 2643.  540.\n",
      "  750.  830. 1994. 3855.   30. 1575.  730. 4087. 1145. 1786.  165.  628.\n",
      "  176.  192.   46. 3300. 1308. 2620. 4508.  770.  900. 2715. 4129.  705.\n",
      "  920. 1020.  145. 1970. 1547. 1130.  262. 4702.  620. 1046.  562.  100.\n",
      " 2729. 1015. 1894. 4849. 1430.  800.  325. 1940.  350.   75. 2500.   35.\n",
      "  200.  370. 1815.   80.  320.  810.   32.    0.]\n",
      "Helthcare_2 [0 1 2 5 3 6 4]\n",
      "Shops_1 [11 16  3  5  4  6  2  1  0 15  7  9  8 10 19 23]\n",
      "Price [184966.93072984 300009.45006273 220925.90852358 ... 159143.8053701\n",
      " 181595.3398081  218714.0776153 ]\n"
     ]
    }
   ],
   "source": [
    "numerical_unique_values(train_df)"
   ]
  },
  {
   "cell_type": "code",
   "execution_count": 230,
   "metadata": {},
   "outputs": [
    {
     "name": "stdout",
     "output_type": "stream",
     "text": [
      "Id [  725 15856  5480 ...  5783  4780 12504]\n",
      "DistrictId [ 58  74 190  47  27  53  23  32  96   6  61   3  46  41 167  90  57   1\n",
      "  11  62  85  31  15  83  80 205   0  52  21 123  45 101  34 212  67  72\n",
      "  29  39 141 113  30 161  48  18 120  75  99 163  37   8  24 164   7  44\n",
      " 125  84   9  69  87  28  66 169  12 108  71 129 111  76  56 193  63  33\n",
      "  49  77  59  13 187 180 128  20  26  36  79  51  70   5  98  86  55 119\n",
      " 116   2  78  94 151  14 156  54  82  95  22 105 176 121 114  88  93 118\n",
      " 126 127  17  81  25 153  60 100 148 112  64 138 115 110  35 175  97 149\n",
      " 122  91 179 171 188 155  16 152  10 124 159 182 139 104  68 157  42  89\n",
      " 103 160 106 142 177 191  19 107  38 178 130 183 170 189 134 102 194 166\n",
      "  73 132 144 109 208 210 137 147 145  92 140 143 131  43 206 168 181 184\n",
      " 172 146 185   4 135 150 173 204 203 211  65  40 196 136 209 165 154 192\n",
      " 198 200 186]\n",
      "Rooms [ 2.  1.  3.  4.  5.  6.  0. 17.]\n",
      "Square [49.88264339 69.26318347 13.5978185  ... 77.84217793 81.305222\n",
      " 60.5556927 ]\n",
      "LifeSquare [33.4327817          nan 15.9482464  ... 50.80979717 21.80706108\n",
      " 48.28262509]\n",
      "KitchenSquare [  6.   1.  12.   9.   7.   5.   8.   0.  10.  61.  11.  15.   3.  16.\n",
      "  13.  14.  18.   4.  34.  24.  42.  17.   2.  65. 112. 620.  22.  33.\n",
      "  19.  41.  60.  44.  40.  62.  57.  30.  97.  20.]\n",
      "Floor [ 6  2 22 17 21  5 13 10  4  7 14 12  1  8  3 25  9 11 20 18 23 16 19 15\n",
      " 27 24 26 38 33 46 32 28 31 78 34]\n",
      "HouseFloor [14.  1.  5. 22. 17. 21.  9. 15.  0. 12.  3. 16.  6.  7.  2. 27. 19.  8.\n",
      " 20. 10. 25.  4. 24. 28. 18. 13. 11. 23. 30. 40. 99. 34. 39. 48. 26. 37.\n",
      " 36. 32. 31. 33. 29.]\n",
      "HouseYear [1972 1977 1909 2007 2017 1997 2014 1981 1971 1968 1974 1959 1976 2015\n",
      " 2004 2000 1970 1964 1975 1988 1963 1987 1933 1962 1969 1984 1980 1929\n",
      " 1990 1960 2016 1954 1996 2019 1993 1911 1985 1982 1966 1978 2003 1983\n",
      " 1973 2018 2013 2010 1957 1958 1965 2008 1986 1979 2012 1995 1999 1989\n",
      " 1992 2009 1956 2005 1998 1940 2002 1991 1967 1994 2020 1955 1961 2006\n",
      " 2011 1926 2001 1934 1917 1931 1953 1943 1941 1930 1912 1935 1927 1937\n",
      " 1918 1950 1952 1910 1939 1914 1908 1938 1928 1932 1948 1949 1920]\n",
      "Ecology_1 [3.10199130e-01 7.57787550e-02 0.00000000e+00 1.01872465e-01\n",
      " 7.21575810e-02 4.96372570e-02 1.35649789e-01 4.11163540e-02\n",
      " 2.43204519e-01 3.00322518e-01 2.65088676e-01 2.11401214e-01\n",
      " 3.61222920e-02 5.02720140e-02 9.07991030e-02 1.88783766e-01\n",
      " 7.12231700e-03 2.98204575e-01 1.16541270e-02 3.86929870e-02\n",
      " 2.21166500e-03 4.37885240e-01 3.71778180e-02 1.51346216e-01\n",
      " 1.58249043e-01 7.72028200e-03 1.69091090e-01 3.19809354e-01\n",
      " 3.71148999e-01 1.94489265e-01 1.44231140e-02 1.95781053e-01\n",
      " 2.25824954e-01 6.97533610e-02 3.13924552e-01 1.00455735e-01\n",
      " 2.10473241e-01 1.76470530e-02 6.96603440e-02 4.28825818e-01\n",
      " 5.07555690e-02 7.81528000e-05 4.11246340e-02 1.75054867e-01\n",
      " 3.41071945e-01 3.07466659e-01 1.23388860e-02 5.19420620e-02\n",
      " 7.65851500e-03 1.33215333e-01 1.78916796e-01 2.19006007e-01\n",
      " 1.11627393e-01 5.09000580e-02 4.86245621e-01 1.30617806e-01\n",
      " 1.22190486e-01 4.02427640e-02 5.94562270e-02 3.34937080e-02\n",
      " 1.49666373e-01 9.91363000e-04 1.18537385e-01 5.76745100e-03\n",
      " 1.61975568e-01 1.40579200e-02 2.07413260e-02 1.36330300e-01\n",
      " 2.38617130e-01 2.56091570e-02 1.61531741e-01 2.32205084e-01\n",
      " 1.69676000e-04 9.34425640e-02 3.46560820e-02 1.27811589e-01\n",
      " 6.99893000e-05 1.95087960e-02 3.73164520e-02 8.76190900e-02\n",
      " 1.50168920e-02 1.50817539e-01 4.13654460e-02 3.51452670e-02\n",
      " 1.80000000e-09 9.22906420e-02 2.82797669e-01 2.36108458e-01\n",
      " 4.20315870e-02 6.07615200e-03 3.09479124e-01 3.62700890e-02\n",
      " 8.90397190e-02 2.12515361e-01 3.27018035e-01 1.27375905e-01\n",
      " 4.07276235e-01 3.33891544e-01 2.46031548e-01 9.95363000e-04\n",
      " 2.00146802e-01 5.21867054e-01 1.30122770e-01 4.60556389e-01\n",
      " 3.43314970e-02 1.40729610e-02 4.23072710e-02 5.18154350e-02\n",
      " 2.18439740e-01 2.46623602e-01 1.22090347e-01 8.19434630e-02\n",
      " 1.36244425e-01 4.98633870e-02 6.99119000e-04 1.48903891e-01\n",
      " 7.54236800e-02 6.07530490e-02 5.81920600e-03 1.97367951e-01\n",
      " 4.58174486e-01 3.86771659e-01 1.74739084e-01 1.45807160e-02\n",
      " 3.06977489e-01 8.68852650e-02 4.94935800e-03 3.94094211e-01\n",
      " 1.43339470e-02 1.13198100e-02]\n",
      "Social_1 [11  6 30 23  2 34 46 53  5 52 37 47  9 24 21 74 31  1 16  4 28 39 32 38\n",
      " 19 25 41 22  8 43 36 27 35 17 49 18 50 13 66 33  7 26  0 42 12 20 14 29\n",
      " 15  3 10]\n",
      "Social_2 [ 2748  1437  7538  4583   629  7759  7960 14892  1564 10311  5288 11319\n",
      "  1892  4378  4231 19083  6137   264  4048   915  6533  7614  5735 11217\n",
      "  5889  5731  4788  8647  3856  4756  7065  8004  3806  5212  6558 13670\n",
      "  4625  1423  7227  2398   469  6119  5011  3684  5469  6398  9515  5562\n",
      " 10055  5664  5048  5776  4017  7077 11395  3594  6746 12238 10621  2514\n",
      " 10418  4724  3478   362 10573  4789  6783  6207   388  7010   290  5613\n",
      "  6141  1660  5067  3889  5261  5648  4860  5992  4635   168  7287 10309\n",
      "  7687  6748  4798  6714  1497  3079  3433  2733  5569  9292  3681  7425\n",
      "  4346  8667  3893  6856  5285  7715  1318  7976  3293  2270  8429  1768\n",
      "  6564  5027  3151  7651  3975  6149  1986  4386  5487   475  2810  3374\n",
      "  1227  4472  2940  6566  2738  2370  3746  3369  1952  3097  2787   342\n",
      "  2423  4439  1135  3379   760  5148  2277   186   662   528   568]\n",
      "Social_3 [  1   3  87   0   6   4  14   2  10  16   7  11  37   8 141   5  48   9\n",
      "  56  19  39  93  59  73  27  84  23  45  20  24]\n",
      "Healthcare_1 [  nan 4702.  229.  350.  540. 1937. 1145. 1036. 1020. 1015. 1084. 2300.\n",
      "  830.  810. 2857.  750.  125. 1548. 3855.  562. 1994.  730.  145. 1046.\n",
      "  325. 2078.  800. 2301. 1406.  192. 1970.   30.  900. 1308. 2729. 1322.\n",
      " 4087. 1183. 4508. 1340.  262. 1786.  705.  240.   80. 3300.  320.  176.\n",
      " 2672. 2890. 2643.  920. 2620. 1815.  165. 1940.  645.  990.  200.  628.\n",
      " 2500.  370.   46. 2715.  770. 4849.  620. 1450. 1894.   75. 4129. 1430.\n",
      "  520.   32. 1130.  100. 1575. 1547.   35.    0.]\n",
      "Helthcare_2 [0 5 3 1 2 4 6]\n",
      "Shops_1 [ 0  2  5  3 11  4  9  1 15  7  8 10  6 23 19 16]\n"
     ]
    }
   ],
   "source": [
    "numerical_unique_values(test_df)"
   ]
  },
  {
   "cell_type": "markdown",
   "metadata": {},
   "source": [
    "Метки пропущенных значений NaN."
   ]
  },
  {
   "cell_type": "markdown",
   "metadata": {},
   "source": [
    "**Подготовка датасета**"
   ]
  },
  {
   "cell_type": "code",
   "execution_count": 315,
   "metadata": {},
   "outputs": [],
   "source": [
    "def prepare_values(df):\n",
    "    df.loc[df['LifeSquare'].isna(), 'LifeSquare'] = df['Square'] - df['KitchenSquare']\n",
    "    df.loc[df['Rooms'] == 0, 'Rooms'] = df['Rooms'].mode()[0]\n",
    "    df.loc[df['HouseYear'] > 2020, 'HouseYear'] = 2020\n",
    "    df.loc[df['HouseFloor'] == 0, 'HouseFloor'] = df['HouseFloor'].mode()[0]\n",
    "    df.loc[df['Healthcare_1'].isna(), 'Healthcare_1'] = df['Healthcare_1'].median()"
   ]
  },
  {
   "cell_type": "code",
   "execution_count": 316,
   "metadata": {},
   "outputs": [],
   "source": [
    "prepare_values(train_df)"
   ]
  },
  {
   "cell_type": "code",
   "execution_count": 317,
   "metadata": {},
   "outputs": [],
   "source": [
    "prepare_values(test_df)"
   ]
  },
  {
   "cell_type": "markdown",
   "metadata": {},
   "source": [
    "**Обработка выбросов**"
   ]
  },
  {
   "cell_type": "code",
   "execution_count": 318,
   "metadata": {},
   "outputs": [
    {
     "data": {
      "text/plain": [
       "Text(0, 0.5, 'Price')"
      ]
     },
     "execution_count": 318,
     "metadata": {},
     "output_type": "execute_result"
    },
    {
     "data": {
      "image/png": "[encoded data removed]",
      "text/plain": [
       "<Figure size 432x288 with 1 Axes>"
      ]
     },
     "metadata": {},
     "output_type": "display_data"
    }
   ],
   "source": [
    "plt.scatter(train_df['Rooms'], train_df['Price']);\n",
    "plt.xlabel('Rooms')\n",
    "plt.ylabel('Price')"
   ]
  },
  {
   "cell_type": "code",
   "execution_count": 235,
   "metadata": {},
   "outputs": [
    {
     "data": {
      "text/plain": [
       "Text(0, 0.5, 'Price')"
      ]
     },
     "execution_count": 235,
     "metadata": {},
     "output_type": "execute_result"
    },
    {
     "data": {
      "image/png": "[encoded data removed]",
      "text/plain": [
       "<Figure size 432x288 with 1 Axes>"
      ]
     },
     "metadata": {
      "needs_background": "light"
     },
     "output_type": "display_data"
    }
   ],
   "source": [
    "plt.scatter(train_df['Square'], train_df['Price']);\n",
    "plt.xlabel('Rooms')\n",
    "plt.ylabel('Price')"
   ]
  },
  {
   "cell_type": "code",
   "execution_count": 236,
   "metadata": {},
   "outputs": [
    {
     "data": {
      "text/plain": [
       "Text(0, 0.5, 'Price')"
      ]
     },
     "execution_count": 236,
     "metadata": {},
     "output_type": "execute_result"
    },
    {
     "data": {
      "image/png": "[encoded data removed]",
      "text/plain": [
       "<Figure size 432x288 with 1 Axes>"
      ]
     },
     "metadata": {
      "needs_background": "light"
     },
     "output_type": "display_data"
    }
   ],
   "source": [
    "plt.scatter(train_df['LifeSquare'], train_df['Price']);\n",
    "plt.xlabel('LifeSquare')\n",
    "plt.ylabel('Price')"
   ]
  },
  {
   "cell_type": "code",
   "execution_count": 237,
   "metadata": {},
   "outputs": [
    {
     "data": {
      "text/plain": [
       "Text(0, 0.5, 'Price')"
      ]
     },
     "execution_count": 237,
     "metadata": {},
     "output_type": "execute_result"
    },
    {
     "data": {
      "image/png": "[encoded data removed]",
      "text/plain": [
       "<Figure size 432x288 with 1 Axes>"
      ]
     },
     "metadata": {
      "needs_background": "light"
     },
     "output_type": "display_data"
    }
   ],
   "source": [
    "plt.scatter(train_df['KitchenSquare'], train_df['Price']);\n",
    "plt.xlabel('KitchenSquare')\n",
    "plt.ylabel('Price')"
   ]
  },
  {
   "cell_type": "code",
   "execution_count": 319,
   "metadata": {},
   "outputs": [],
   "source": [
    "def replace_deviations(df):\n",
    "    df.loc[(df['Rooms'] > 5), 'Rooms'] = df['Rooms'].mode()[0]\n",
    "    df.loc[df['Square'] > 1500, 'Square'] = df['Square'].median()\n",
    "    df.loc[df['LifeSquare'] > 6000, 'LifeSquare'] = df['LifeSquare'].median()\n",
    "    df.loc[df['KitchenSquare'] > 1500, 'KitchenSquare'] = df['KitchenSquare'].median()\n",
    "    df.loc[df['KitchenSquare'] == 0, 'KitchenSquare'] = df['KitchenSquare'].median()"
   ]
  },
  {
   "cell_type": "code",
   "execution_count": 320,
   "metadata": {},
   "outputs": [],
   "source": [
    "replace_deviations(train_df)"
   ]
  },
  {
   "cell_type": "code",
   "execution_count": 321,
   "metadata": {},
   "outputs": [],
   "source": [
    "replace_deviations(test_df)"
   ]
  },
  {
   "cell_type": "markdown",
   "metadata": {},
   "source": [
    "**Feature enginering**"
   ]
  },
  {
   "cell_type": "code",
   "execution_count": 241,
   "metadata": {},
   "outputs": [
    {
     "data": {
      "image/png": "[encoded data removed]",
      "text/plain": [
       "<Figure size 1152x1152 with 2 Axes>"
      ]
     },
     "metadata": {
      "needs_background": "light"
     },
     "output_type": "display_data"
    }
   ],
   "source": [
    "plt.figure(figsize = (16,16))\n",
    "\n",
    "sns.set(font_scale=1.2)\n",
    "sns.heatmap(train_df.corr(), \n",
    "            annot=True, linewidths=.5, cmap='coolwarm')\n",
    "\n",
    "plt.title('Correlation matrix');"
   ]
  },
  {
   "cell_type": "markdown",
   "metadata": {},
   "source": [
    "Создам новые признаки\n",
    "\n",
    "* **HouseAge** - возраст дома\n",
    "* **PricePerSquare** - цена за квадратный метр\n",
    "* **RoomSquare** - жилая площадь на комнату\n",
    "* **PricePerRoom** - цена одной комнаты\n",
    "* **LifeSquarePerSquare** - доля жилой площади в общей площади\n",
    "* **KitchenSquareShare** - доля площади кухни в общей площади\n",
    "* **KitchenSquarePerLifeSquare** - доля площади кухни в жилой площади\n",
    "\n",
    "А также соотвествующие им ценовые признаки"
   ]
  },
  {
   "cell_type": "code",
   "execution_count": 322,
   "metadata": {},
   "outputs": [],
   "source": [
    "def get_new_variables(df):\n",
    "    df['HouseAge'] = pd.DataFrame(2020 - df['HouseYear'])\n",
    "    df['PricePerSquare'] = df['Price'] / df['Square']\n",
    "    df['RoomSquare'] = df['LifeSquare'] / df['Rooms']\n",
    "    df['PricePerRoom'] = df['Price'] / df['Rooms']\n",
    "    df['LifeSquarePerSquare'] = df['LifeSquare'] / df['Square']\n",
    "    df['KitchenSquareShare'] = df['KitchenSquare'] / df['Square']\n",
    "    df['KitchenSquarePerLifeSquare'] = df['KitchenSquare'] / df['LifeSquare']\n",
    "    df['KitchenSquareSharePrice'] = df['Price'] / df['KitchenSquareShare']\n",
    "    df['KitchenSquarePerLifeSquarePrice'] = df['Price'] * df['KitchenSquarePerLifeSquare']\n",
    "    df['PricePerLifeSquare'] = df['Price'] / df['LifeSquare']\n",
    "    df['PricePerKitchenSquare'] = df['Price'] / df['KitchenSquare']\n",
    "    df['UsefulSquare'] = (df['LifeSquare'] + df['KitchenSquare'])/df['Square']\n",
    "    df['PricePerUsefulSquare'] = df['Price'] / df['UsefulSquare']\n",
    "    df['RoomSquarePrice'] = df['Price'] / df['RoomSquare']\n",
    "    df['TotalRoomSquare'] = df['Square'] / df['Rooms']\n",
    "    df['KitchenRoomSquare'] = df['KitchenSquare'] / df['Rooms']\n",
    "    df['TotalRoomSquarePrice'] = df['Price'] / df['TotalRoomSquare']\n",
    "    df['KitchenRoomSquarePrice'] = df['Price'] / df['KitchenRoomSquare']\n",
    "    return df.head()"
   ]
  },
  {
   "cell_type": "code",
   "execution_count": 323,
   "metadata": {},
   "outputs": [
    {
     "data": {
      "text/html": [
       "<div>\n",
       "<style scoped>\n",
       "    .dataframe tbody tr th:only-of-type {\n",
       "        vertical-align: middle;\n",
       "    }\n",
       "\n",
       "    .dataframe tbody tr th {\n",
       "        vertical-align: top;\n",
       "    }\n",
       "\n",
       "    .dataframe thead th {\n",
       "        text-align: right;\n",
       "    }\n",
       "</style>\n",
       "<table border=\"1\" class=\"dataframe\">\n",
       "  <thead>\n",
       "    <tr style=\"text-align: right;\">\n",
       "      <th></th>\n",
       "      <th>Id</th>\n",
       "      <th>DistrictId</th>\n",
       "      <th>Rooms</th>\n",
       "      <th>Square</th>\n",
       "      <th>LifeSquare</th>\n",
       "      <th>KitchenSquare</th>\n",
       "      <th>Floor</th>\n",
       "      <th>HouseFloor</th>\n",
       "      <th>HouseYear</th>\n",
       "      <th>Ecology_1</th>\n",
       "      <th>...</th>\n",
       "      <th>KitchenSquarePerLifeSquarePrice</th>\n",
       "      <th>PricePerLifeSquare</th>\n",
       "      <th>PricePerKitchenSquare</th>\n",
       "      <th>UsefulSquare</th>\n",
       "      <th>PricePerUsefulSquare</th>\n",
       "      <th>RoomSquarePrice</th>\n",
       "      <th>TotalRoomSquare</th>\n",
       "      <th>KitchenRoomSquare</th>\n",
       "      <th>TotalRoomSquarePrice</th>\n",
       "      <th>KitchenRoomSquarePrice</th>\n",
       "    </tr>\n",
       "  </thead>\n",
       "  <tbody>\n",
       "    <tr>\n",
       "      <td>0</td>\n",
       "      <td>14038</td>\n",
       "      <td>35</td>\n",
       "      <td>2.0</td>\n",
       "      <td>47.981561</td>\n",
       "      <td>29.442751</td>\n",
       "      <td>6.0</td>\n",
       "      <td>7</td>\n",
       "      <td>9.0</td>\n",
       "      <td>1969</td>\n",
       "      <td>0.089040</td>\n",
       "      <td>...</td>\n",
       "      <td>37693.543020</td>\n",
       "      <td>6282.257170</td>\n",
       "      <td>30827.821788</td>\n",
       "      <td>0.738674</td>\n",
       "      <td>250403.876005</td>\n",
       "      <td>12564.514340</td>\n",
       "      <td>23.990781</td>\n",
       "      <td>3.000000</td>\n",
       "      <td>7709.917142</td>\n",
       "      <td>61655.643577</td>\n",
       "    </tr>\n",
       "    <tr>\n",
       "      <td>1</td>\n",
       "      <td>15053</td>\n",
       "      <td>41</td>\n",
       "      <td>3.0</td>\n",
       "      <td>65.683640</td>\n",
       "      <td>40.049543</td>\n",
       "      <td>8.0</td>\n",
       "      <td>7</td>\n",
       "      <td>9.0</td>\n",
       "      <td>1978</td>\n",
       "      <td>0.000070</td>\n",
       "      <td>...</td>\n",
       "      <td>59927.665818</td>\n",
       "      <td>7490.958227</td>\n",
       "      <td>37501.181258</td>\n",
       "      <td>0.731530</td>\n",
       "      <td>410112.389032</td>\n",
       "      <td>22472.874682</td>\n",
       "      <td>21.894547</td>\n",
       "      <td>2.666667</td>\n",
       "      <td>13702.473735</td>\n",
       "      <td>112503.543774</td>\n",
       "    </tr>\n",
       "    <tr>\n",
       "      <td>2</td>\n",
       "      <td>4765</td>\n",
       "      <td>53</td>\n",
       "      <td>2.0</td>\n",
       "      <td>44.947953</td>\n",
       "      <td>29.197612</td>\n",
       "      <td>6.0</td>\n",
       "      <td>8</td>\n",
       "      <td>12.0</td>\n",
       "      <td>1968</td>\n",
       "      <td>0.049637</td>\n",
       "      <td>...</td>\n",
       "      <td>45399.447917</td>\n",
       "      <td>7566.574653</td>\n",
       "      <td>36820.984754</td>\n",
       "      <td>0.783075</td>\n",
       "      <td>282126.167784</td>\n",
       "      <td>15133.149306</td>\n",
       "      <td>22.473976</td>\n",
       "      <td>3.000000</td>\n",
       "      <td>9830.299043</td>\n",
       "      <td>73641.969508</td>\n",
       "    </tr>\n",
       "    <tr>\n",
       "      <td>3</td>\n",
       "      <td>5809</td>\n",
       "      <td>58</td>\n",
       "      <td>2.0</td>\n",
       "      <td>53.352981</td>\n",
       "      <td>52.731512</td>\n",
       "      <td>9.0</td>\n",
       "      <td>8</td>\n",
       "      <td>17.0</td>\n",
       "      <td>1977</td>\n",
       "      <td>0.437885</td>\n",
       "      <td>...</td>\n",
       "      <td>29973.463372</td>\n",
       "      <td>3330.384819</td>\n",
       "      <td>19512.914135</td>\n",
       "      <td>1.157040</td>\n",
       "      <td>151780.654410</td>\n",
       "      <td>6660.769638</td>\n",
       "      <td>26.676491</td>\n",
       "      <td>4.500000</td>\n",
       "      <td>6583.183273</td>\n",
       "      <td>39025.828270</td>\n",
       "    </tr>\n",
       "    <tr>\n",
       "      <td>4</td>\n",
       "      <td>10783</td>\n",
       "      <td>99</td>\n",
       "      <td>1.0</td>\n",
       "      <td>39.649192</td>\n",
       "      <td>23.776169</td>\n",
       "      <td>7.0</td>\n",
       "      <td>11</td>\n",
       "      <td>12.0</td>\n",
       "      <td>1976</td>\n",
       "      <td>0.012339</td>\n",
       "      <td>...</td>\n",
       "      <td>44228.559975</td>\n",
       "      <td>6318.365711</td>\n",
       "      <td>21460.933092</td>\n",
       "      <td>0.776212</td>\n",
       "      <td>193538.077064</td>\n",
       "      <td>6318.365711</td>\n",
       "      <td>39.649192</td>\n",
       "      <td>7.000000</td>\n",
       "      <td>3788.892642</td>\n",
       "      <td>21460.933092</td>\n",
       "    </tr>\n",
       "  </tbody>\n",
       "</table>\n",
       "<p>5 rows × 38 columns</p>\n",
       "</div>"
      ],
      "text/plain": [
       "      Id  DistrictId  Rooms     Square  LifeSquare  KitchenSquare  Floor  \\\n",
       "0  14038          35    2.0  47.981561   29.442751            6.0      7   \n",
       "1  15053          41    3.0  65.683640   40.049543            8.0      7   \n",
       "2   4765          53    2.0  44.947953   29.197612            6.0      8   \n",
       "3   5809          58    2.0  53.352981   52.731512            9.0      8   \n",
       "4  10783          99    1.0  39.649192   23.776169            7.0     11   \n",
       "\n",
       "   HouseFloor  HouseYear  Ecology_1  ... KitchenSquarePerLifeSquarePrice  \\\n",
       "0         9.0       1969   0.089040  ...                    37693.543020   \n",
       "1         9.0       1978   0.000070  ...                    59927.665818   \n",
       "2        12.0       1968   0.049637  ...                    45399.447917   \n",
       "3        17.0       1977   0.437885  ...                    29973.463372   \n",
       "4        12.0       1976   0.012339  ...                    44228.559975   \n",
       "\n",
       "  PricePerLifeSquare  PricePerKitchenSquare  UsefulSquare  \\\n",
       "0        6282.257170           30827.821788      0.738674   \n",
       "1        7490.958227           37501.181258      0.731530   \n",
       "2        7566.574653           36820.984754      0.783075   \n",
       "3        3330.384819           19512.914135      1.157040   \n",
       "4        6318.365711           21460.933092      0.776212   \n",
       "\n",
       "   PricePerUsefulSquare  RoomSquarePrice  TotalRoomSquare  KitchenRoomSquare  \\\n",
       "0         250403.876005     12564.514340        23.990781           3.000000   \n",
       "1         410112.389032     22472.874682        21.894547           2.666667   \n",
       "2         282126.167784     15133.149306        22.473976           3.000000   \n",
       "3         151780.654410      6660.769638        26.676491           4.500000   \n",
       "4         193538.077064      6318.365711        39.649192           7.000000   \n",
       "\n",
       "  TotalRoomSquarePrice  KitchenRoomSquarePrice  \n",
       "0          7709.917142            61655.643577  \n",
       "1         13702.473735           112503.543774  \n",
       "2          9830.299043            73641.969508  \n",
       "3          6583.183273            39025.828270  \n",
       "4          3788.892642            21460.933092  \n",
       "\n",
       "[5 rows x 38 columns]"
      ]
     },
     "execution_count": 323,
     "metadata": {},
     "output_type": "execute_result"
    }
   ],
   "source": [
    "get_new_variables(train_df)"
   ]
  },
  {
   "cell_type": "markdown",
   "metadata": {},
   "source": [
    "Ценовые признаки в тестовом датасете вычислить невозможно. Нужно обработать переменную DistrictId и присоединить по ней данные \n",
    "из тренировочного датасета."
   ]
  },
  {
   "cell_type": "code",
   "execution_count": 324,
   "metadata": {},
   "outputs": [],
   "source": [
    "district_size = train_df['DistrictId'].value_counts().reset_index()\\\n",
    "                .rename(columns={'index':'DistrictId', 'DistrictId':'DistrictSize'})"
   ]
  },
  {
   "cell_type": "code",
   "execution_count": 250,
   "metadata": {},
   "outputs": [
    {
     "data": {
      "image/png": "[encoded data removed]",
      "text/plain": [
       "<Figure size 1152x432 with 1 Axes>"
      ]
     },
     "metadata": {},
     "output_type": "display_data"
    }
   ],
   "source": [
    "sns.set(style='ticks', font_scale=1.5)\n",
    "f, ax = plt.subplots(figsize=(16, 6))\n",
    "sns.barplot(y='DistrictSize', x='DistrictId',\n",
    "               data=district_size,\n",
    "               order=district_size.sort_values(by='DistrictSize', ascending=False)['DistrictId']);\n",
    "ax.tick_params(axis='x', rotation=90)\n",
    "ax.xaxis.set_major_locator(plt.MaxNLocator(50))"
   ]
  },
  {
   "cell_type": "code",
   "execution_count": 325,
   "metadata": {},
   "outputs": [],
   "source": [
    "districts_popular = district_size.loc[district_size['DistrictSize'] > 100, 'DistrictId'].tolist()"
   ]
  },
  {
   "cell_type": "code",
   "execution_count": 326,
   "metadata": {},
   "outputs": [
    {
     "data": {
      "text/html": [
       "<div>\n",
       "<style scoped>\n",
       "    .dataframe tbody tr th:only-of-type {\n",
       "        vertical-align: middle;\n",
       "    }\n",
       "\n",
       "    .dataframe tbody tr th {\n",
       "        vertical-align: top;\n",
       "    }\n",
       "\n",
       "    .dataframe thead th {\n",
       "        text-align: right;\n",
       "    }\n",
       "</style>\n",
       "<table border=\"1\" class=\"dataframe\">\n",
       "  <thead>\n",
       "    <tr style=\"text-align: right;\">\n",
       "      <th></th>\n",
       "      <th>DistrictId</th>\n",
       "      <th>DistrictSize</th>\n",
       "    </tr>\n",
       "  </thead>\n",
       "  <tbody>\n",
       "    <tr>\n",
       "      <td>0</td>\n",
       "      <td>1</td>\n",
       "      <td>652</td>\n",
       "    </tr>\n",
       "    <tr>\n",
       "      <td>1</td>\n",
       "      <td>6</td>\n",
       "      <td>511</td>\n",
       "    </tr>\n",
       "    <tr>\n",
       "      <td>2</td>\n",
       "      <td>8</td>\n",
       "      <td>142</td>\n",
       "    </tr>\n",
       "    <tr>\n",
       "      <td>3</td>\n",
       "      <td>9</td>\n",
       "      <td>294</td>\n",
       "    </tr>\n",
       "    <tr>\n",
       "      <td>4</td>\n",
       "      <td>11</td>\n",
       "      <td>129</td>\n",
       "    </tr>\n",
       "    <tr>\n",
       "      <td>5</td>\n",
       "      <td>21</td>\n",
       "      <td>165</td>\n",
       "    </tr>\n",
       "    <tr>\n",
       "      <td>6</td>\n",
       "      <td>23</td>\n",
       "      <td>565</td>\n",
       "    </tr>\n",
       "    <tr>\n",
       "      <td>7</td>\n",
       "      <td>27</td>\n",
       "      <td>851</td>\n",
       "    </tr>\n",
       "    <tr>\n",
       "      <td>8</td>\n",
       "      <td>30</td>\n",
       "      <td>228</td>\n",
       "    </tr>\n",
       "    <tr>\n",
       "      <td>9</td>\n",
       "      <td>34</td>\n",
       "      <td>111</td>\n",
       "    </tr>\n",
       "    <tr>\n",
       "      <td>10</td>\n",
       "      <td>44</td>\n",
       "      <td>104</td>\n",
       "    </tr>\n",
       "    <tr>\n",
       "      <td>11</td>\n",
       "      <td>45</td>\n",
       "      <td>116</td>\n",
       "    </tr>\n",
       "    <tr>\n",
       "      <td>12</td>\n",
       "      <td>46</td>\n",
       "      <td>119</td>\n",
       "    </tr>\n",
       "    <tr>\n",
       "      <td>13</td>\n",
       "      <td>52</td>\n",
       "      <td>143</td>\n",
       "    </tr>\n",
       "    <tr>\n",
       "      <td>14</td>\n",
       "      <td>53</td>\n",
       "      <td>174</td>\n",
       "    </tr>\n",
       "    <tr>\n",
       "      <td>15</td>\n",
       "      <td>57</td>\n",
       "      <td>107</td>\n",
       "    </tr>\n",
       "    <tr>\n",
       "      <td>16</td>\n",
       "      <td>58</td>\n",
       "      <td>179</td>\n",
       "    </tr>\n",
       "    <tr>\n",
       "      <td>17</td>\n",
       "      <td>61</td>\n",
       "      <td>118</td>\n",
       "    </tr>\n",
       "    <tr>\n",
       "      <td>18</td>\n",
       "      <td>62</td>\n",
       "      <td>247</td>\n",
       "    </tr>\n",
       "    <tr>\n",
       "      <td>19</td>\n",
       "      <td>74</td>\n",
       "      <td>114</td>\n",
       "    </tr>\n",
       "    <tr>\n",
       "      <td>20</td>\n",
       "      <td>999</td>\n",
       "      <td>15</td>\n",
       "    </tr>\n",
       "  </tbody>\n",
       "</table>\n",
       "</div>"
      ],
      "text/plain": [
       "    DistrictId  DistrictSize\n",
       "0            1           652\n",
       "1            6           511\n",
       "2            8           142\n",
       "3            9           294\n",
       "4           11           129\n",
       "5           21           165\n",
       "6           23           565\n",
       "7           27           851\n",
       "8           30           228\n",
       "9           34           111\n",
       "10          44           104\n",
       "11          45           116\n",
       "12          46           119\n",
       "13          52           143\n",
       "14          53           174\n",
       "15          57           107\n",
       "16          58           179\n",
       "17          61           118\n",
       "18          62           247\n",
       "19          74           114\n",
       "20         999            15"
      ]
     },
     "execution_count": 326,
     "metadata": {},
     "output_type": "execute_result"
    }
   ],
   "source": [
    "district_size.loc[~district_size['DistrictId'].isin(districts_popular), 'DistrictId'] = 999\n",
    "district_size = district_size.groupby('DistrictId')['DistrictSize'].agg(\n",
    "                                DistrictSize='median')\n",
    "district_size.reset_index(level='DistrictId', inplace=True)\n",
    "district_size"
   ]
  },
  {
   "cell_type": "code",
   "execution_count": 327,
   "metadata": {},
   "outputs": [],
   "source": [
    "train_df.loc[~train_df['DistrictId'].isin(districts_popular), 'DistrictId'] = 999"
   ]
  },
  {
   "cell_type": "code",
   "execution_count": 328,
   "metadata": {},
   "outputs": [],
   "source": [
    "train_df = train_df.merge(district_size, on='DistrictId', how='left').set_index(train_df.index)"
   ]
  },
  {
   "cell_type": "markdown",
   "metadata": {},
   "source": [
    "Сгруппирую цену и новые признаки по району."
   ]
  },
  {
   "cell_type": "code",
   "execution_count": 329,
   "metadata": {},
   "outputs": [],
   "source": [
    "price_by_district = train_df.groupby(['DistrictId'], as_index=False)\\\n",
    "                        .agg({'PricePerRoom':'median'})\\\n",
    "                        .rename(columns={'PricePerRoom':'PricePerRoomByDistrict'})\n",
    "train_df = train_df.merge(price_by_district, on=['DistrictId'], how='left').set_index(train_df.index)"
   ]
  },
  {
   "cell_type": "code",
   "execution_count": 330,
   "metadata": {},
   "outputs": [],
   "source": [
    "square_price_by_district = train_df.groupby(['DistrictId'], as_index=False)\\\n",
    "                        .agg({'PricePerSquare':'median'})\\\n",
    "                        .rename(columns={'PricePerSquare':'PricePerSquareByDistrict'})\n",
    "train_df = train_df.merge(square_price_by_district, on=['DistrictId'], how='left').set_index(train_df.index)"
   ]
  },
  {
   "cell_type": "code",
   "execution_count": 331,
   "metadata": {},
   "outputs": [],
   "source": [
    "kitchen_share_price_by_district = train_df.groupby(['DistrictId'], as_index=False)\\\n",
    "                        .agg({'KitchenSquareSharePrice':'median'})\\\n",
    "                        .rename(columns={'KitchenSquareSharePrice':'KitchenSquareSharePriceByDistrict'})\n",
    "train_df = train_df.merge(kitchen_share_price_by_district, on=['DistrictId'], how='left').set_index(train_df.index)"
   ]
  },
  {
   "cell_type": "code",
   "execution_count": 332,
   "metadata": {},
   "outputs": [],
   "source": [
    "kitchen_perls_price_by_district = train_df.groupby(['DistrictId'], as_index=False)\\\n",
    "                        .agg({'KitchenSquarePerLifeSquarePrice':'median'})\\\n",
    "                        .rename(columns={'KitchenSquarePerLifeSquarePrice':'KitchenSquarePerLifeSquarePriceByDistrict'})\n",
    "train_df = train_df.merge(kitchen_perls_price_by_district, on=['DistrictId'], how='left').set_index(train_df.index)"
   ]
  },
  {
   "cell_type": "code",
   "execution_count": 333,
   "metadata": {},
   "outputs": [],
   "source": [
    "lifesquare_price_by_district = train_df.groupby(['DistrictId'], as_index=False)\\\n",
    "                        .agg({'PricePerLifeSquare':'median'})\\\n",
    "                        .rename(columns={'PricePerLifeSquare':'PricePerLifeSquareByDistrict'})\n",
    "train_df = train_df.merge(lifesquare_price_by_district, on=['DistrictId'], how='left').set_index(train_df.index)"
   ]
  },
  {
   "cell_type": "code",
   "execution_count": 334,
   "metadata": {},
   "outputs": [],
   "source": [
    "kitchensquare_price_by_district = train_df.groupby(['DistrictId'], as_index=False)\\\n",
    "                        .agg({'PricePerKitchenSquare':'median'})\\\n",
    "                        .rename(columns={'PricePerKitchenSquare':'PricePerKitchenSquareByDistrict'})\n",
    "train_df = train_df.merge(kitchensquare_price_by_district, on=['DistrictId'], how='left').set_index(train_df.index)"
   ]
  },
  {
   "cell_type": "code",
   "execution_count": 335,
   "metadata": {},
   "outputs": [],
   "source": [
    "usefulsquare_price_by_district = train_df.groupby(['DistrictId'], as_index=False)\\\n",
    "                        .agg({'PricePerUsefulSquare':'median'})\\\n",
    "                        .rename(columns={'PricePerUsefulSquare':'PricePerUsefulSquareByDistrict'})\n",
    "train_df = train_df.merge(usefulsquare_price_by_district, on=['DistrictId'], how='left').set_index(train_df.index)"
   ]
  },
  {
   "cell_type": "code",
   "execution_count": 336,
   "metadata": {},
   "outputs": [],
   "source": [
    "roomsquare_price_by_district = train_df.groupby(['DistrictId'], as_index=False)\\\n",
    "                        .agg({'RoomSquarePrice':'median'})\\\n",
    "                        .rename(columns={'RoomSquarePrice':'RoomSquarePriceByDistrict'})\n",
    "train_df = train_df.merge(roomsquare_price_by_district, on=['DistrictId'], how='left').set_index(train_df.index)"
   ]
  },
  {
   "cell_type": "code",
   "execution_count": 337,
   "metadata": {},
   "outputs": [],
   "source": [
    "total_roomsquare_price_by_district = train_df.groupby(['DistrictId'], as_index=False)\\\n",
    "                        .agg({'TotalRoomSquarePrice':'median'})\\\n",
    "                        .rename(columns={'TotalRoomSquarePrice':'TotalRoomSquarePriceByDistrict'})\n",
    "train_df = train_df.merge(total_roomsquare_price_by_district, on=['DistrictId'], how='left').set_index(train_df.index)"
   ]
  },
  {
   "cell_type": "code",
   "execution_count": 338,
   "metadata": {},
   "outputs": [],
   "source": [
    "kitchenroom_price_by_district = train_df.groupby(['DistrictId'], as_index=False)\\\n",
    "                        .agg({'KitchenRoomSquarePrice':'median'})\\\n",
    "                        .rename(columns={'KitchenRoomSquarePrice':'KitchenRoomSquarePriceByDistrict'})\n",
    "train_df = train_df.merge(kitchenroom_price_by_district, on=['DistrictId'], how='left').set_index(train_df.index)"
   ]
  },
  {
   "cell_type": "code",
   "execution_count": 339,
   "metadata": {},
   "outputs": [],
   "source": [
    "test_df.loc[~test_df['DistrictId'].isin(districts_popular), 'DistrictId'] = 999\n",
    "test_df = test_df.merge(district_size, on='DistrictId', how='left').set_index(test_df.index)\n",
    "test_df = test_df.merge(price_by_district, on=['DistrictId'], how='left').set_index(test_df.index)\n",
    "test_df = test_df.merge(square_price_by_district, on=['DistrictId'], how='left').set_index(test_df.index)\n",
    "test_df = test_df.merge(kitchen_share_price_by_district, on=['DistrictId'], how='left').set_index(test_df.index)\n",
    "test_df = test_df.merge(kitchen_perls_price_by_district, on=['DistrictId'], how='left').set_index(test_df.index)\n",
    "test_df = test_df.merge(lifesquare_price_by_district, on=['DistrictId'], how='left').set_index(test_df.index)\n",
    "test_df = test_df.merge(kitchensquare_price_by_district, on=['DistrictId'], how='left').set_index(test_df.index)\n",
    "test_df = test_df.merge(usefulsquare_price_by_district, on=['DistrictId'], how='left').set_index(test_df.index)\n",
    "test_df = test_df.merge(roomsquare_price_by_district, on=['DistrictId'], how='left').set_index(test_df.index)\n",
    "test_df = test_df.merge(total_roomsquare_price_by_district, on=['DistrictId'], how='left').set_index(test_df.index)\n",
    "test_df = test_df.merge(kitchenroom_price_by_district, on=['DistrictId'], how='left').set_index(test_df.index)\n",
    "test_df['LifeSquarePerSquare'] = test_df['LifeSquare'] / test_df['Square']\n",
    "test_df['KitchenSquareShare'] = test_df['KitchenSquare'] / test_df['Square']\n",
    "test_df['KitchenSquarePerLifeSquare'] = test_df['KitchenSquare'] / test_df['LifeSquare']\n",
    "test_df['UsefulSquare'] = (test_df['LifeSquare'] + test_df['KitchenSquare'])/test_df['Square']\n",
    "test_df['TotalRoomSquare'] = test_df['Square'] / test_df['Rooms']\n",
    "test_df['KitchenRoomSquare'] = test_df['KitchenSquare'] / test_df['Rooms']"
   ]
  },
  {
   "cell_type": "markdown",
   "metadata": {},
   "source": [
    "Получу дамми переменные"
   ]
  },
  {
   "cell_type": "code",
   "execution_count": 340,
   "metadata": {},
   "outputs": [],
   "source": [
    "def get_dummies(df):\n",
    "    feature_bin_names = ['Ecology_2', 'Ecology_3', 'Shops_2']\n",
    "    df[feature_bin_names] = df[feature_bin_names].replace({'A':0, 'B':1})\n",
    "    return df.head()"
   ]
  },
  {
   "cell_type": "code",
   "execution_count": 341,
   "metadata": {},
   "outputs": [
    {
     "data": {
      "text/html": [
       "<div>\n",
       "<style scoped>\n",
       "    .dataframe tbody tr th:only-of-type {\n",
       "        vertical-align: middle;\n",
       "    }\n",
       "\n",
       "    .dataframe tbody tr th {\n",
       "        vertical-align: top;\n",
       "    }\n",
       "\n",
       "    .dataframe thead th {\n",
       "        text-align: right;\n",
       "    }\n",
       "</style>\n",
       "<table border=\"1\" class=\"dataframe\">\n",
       "  <thead>\n",
       "    <tr style=\"text-align: right;\">\n",
       "      <th></th>\n",
       "      <th>Id</th>\n",
       "      <th>DistrictId</th>\n",
       "      <th>Rooms</th>\n",
       "      <th>Square</th>\n",
       "      <th>LifeSquare</th>\n",
       "      <th>KitchenSquare</th>\n",
       "      <th>Floor</th>\n",
       "      <th>HouseFloor</th>\n",
       "      <th>HouseYear</th>\n",
       "      <th>Ecology_1</th>\n",
       "      <th>...</th>\n",
       "      <th>PricePerRoomByDistrict</th>\n",
       "      <th>PricePerSquareByDistrict</th>\n",
       "      <th>KitchenSquareSharePriceByDistrict</th>\n",
       "      <th>KitchenSquarePerLifeSquarePriceByDistrict</th>\n",
       "      <th>PricePerLifeSquareByDistrict</th>\n",
       "      <th>PricePerKitchenSquareByDistrict</th>\n",
       "      <th>PricePerUsefulSquareByDistrict</th>\n",
       "      <th>RoomSquarePriceByDistrict</th>\n",
       "      <th>TotalRoomSquarePriceByDistrict</th>\n",
       "      <th>KitchenRoomSquarePriceByDistrict</th>\n",
       "    </tr>\n",
       "  </thead>\n",
       "  <tbody>\n",
       "    <tr>\n",
       "      <td>0</td>\n",
       "      <td>14038</td>\n",
       "      <td>999</td>\n",
       "      <td>2.0</td>\n",
       "      <td>47.981561</td>\n",
       "      <td>29.442751</td>\n",
       "      <td>6.0</td>\n",
       "      <td>7</td>\n",
       "      <td>9.0</td>\n",
       "      <td>1969</td>\n",
       "      <td>0.089040</td>\n",
       "      <td>...</td>\n",
       "      <td>129339.268164</td>\n",
       "      <td>4491.570378</td>\n",
       "      <td>1.654164e+06</td>\n",
       "      <td>52823.368641</td>\n",
       "      <td>7260.736399</td>\n",
       "      <td>32362.565852</td>\n",
       "      <td>283160.414019</td>\n",
       "      <td>13042.524599</td>\n",
       "      <td>8359.555280</td>\n",
       "      <td>64981.638037</td>\n",
       "    </tr>\n",
       "    <tr>\n",
       "      <td>1</td>\n",
       "      <td>15053</td>\n",
       "      <td>999</td>\n",
       "      <td>3.0</td>\n",
       "      <td>65.683640</td>\n",
       "      <td>40.049543</td>\n",
       "      <td>8.0</td>\n",
       "      <td>7</td>\n",
       "      <td>9.0</td>\n",
       "      <td>1978</td>\n",
       "      <td>0.000070</td>\n",
       "      <td>...</td>\n",
       "      <td>129339.268164</td>\n",
       "      <td>4491.570378</td>\n",
       "      <td>1.654164e+06</td>\n",
       "      <td>52823.368641</td>\n",
       "      <td>7260.736399</td>\n",
       "      <td>32362.565852</td>\n",
       "      <td>283160.414019</td>\n",
       "      <td>13042.524599</td>\n",
       "      <td>8359.555280</td>\n",
       "      <td>64981.638037</td>\n",
       "    </tr>\n",
       "    <tr>\n",
       "      <td>2</td>\n",
       "      <td>4765</td>\n",
       "      <td>53</td>\n",
       "      <td>2.0</td>\n",
       "      <td>44.947953</td>\n",
       "      <td>29.197612</td>\n",
       "      <td>6.0</td>\n",
       "      <td>8</td>\n",
       "      <td>12.0</td>\n",
       "      <td>1968</td>\n",
       "      <td>0.049637</td>\n",
       "      <td>...</td>\n",
       "      <td>138669.199925</td>\n",
       "      <td>4845.919064</td>\n",
       "      <td>2.048088e+06</td>\n",
       "      <td>51163.490979</td>\n",
       "      <td>6900.415219</td>\n",
       "      <td>37175.441994</td>\n",
       "      <td>289882.903940</td>\n",
       "      <td>11998.984014</td>\n",
       "      <td>8986.992619</td>\n",
       "      <td>82671.459029</td>\n",
       "    </tr>\n",
       "    <tr>\n",
       "      <td>3</td>\n",
       "      <td>5809</td>\n",
       "      <td>58</td>\n",
       "      <td>2.0</td>\n",
       "      <td>53.352981</td>\n",
       "      <td>52.731512</td>\n",
       "      <td>9.0</td>\n",
       "      <td>8</td>\n",
       "      <td>17.0</td>\n",
       "      <td>1977</td>\n",
       "      <td>0.437885</td>\n",
       "      <td>...</td>\n",
       "      <td>105638.516748</td>\n",
       "      <td>2949.975415</td>\n",
       "      <td>1.873453e+06</td>\n",
       "      <td>18800.568109</td>\n",
       "      <td>3252.381904</td>\n",
       "      <td>29451.448620</td>\n",
       "      <td>168158.738317</td>\n",
       "      <td>6045.861014</td>\n",
       "      <td>4161.837095</td>\n",
       "      <td>61739.842948</td>\n",
       "    </tr>\n",
       "    <tr>\n",
       "      <td>4</td>\n",
       "      <td>10783</td>\n",
       "      <td>999</td>\n",
       "      <td>1.0</td>\n",
       "      <td>39.649192</td>\n",
       "      <td>23.776169</td>\n",
       "      <td>7.0</td>\n",
       "      <td>11</td>\n",
       "      <td>12.0</td>\n",
       "      <td>1976</td>\n",
       "      <td>0.012339</td>\n",
       "      <td>...</td>\n",
       "      <td>129339.268164</td>\n",
       "      <td>4491.570378</td>\n",
       "      <td>1.654164e+06</td>\n",
       "      <td>52823.368641</td>\n",
       "      <td>7260.736399</td>\n",
       "      <td>32362.565852</td>\n",
       "      <td>283160.414019</td>\n",
       "      <td>13042.524599</td>\n",
       "      <td>8359.555280</td>\n",
       "      <td>64981.638037</td>\n",
       "    </tr>\n",
       "  </tbody>\n",
       "</table>\n",
       "<p>5 rows × 49 columns</p>\n",
       "</div>"
      ],
      "text/plain": [
       "      Id  DistrictId  Rooms     Square  LifeSquare  KitchenSquare  Floor  \\\n",
       "0  14038         999    2.0  47.981561   29.442751            6.0      7   \n",
       "1  15053         999    3.0  65.683640   40.049543            8.0      7   \n",
       "2   4765          53    2.0  44.947953   29.197612            6.0      8   \n",
       "3   5809          58    2.0  53.352981   52.731512            9.0      8   \n",
       "4  10783         999    1.0  39.649192   23.776169            7.0     11   \n",
       "\n",
       "   HouseFloor  HouseYear  Ecology_1  ...  PricePerRoomByDistrict  \\\n",
       "0         9.0       1969   0.089040  ...           129339.268164   \n",
       "1         9.0       1978   0.000070  ...           129339.268164   \n",
       "2        12.0       1968   0.049637  ...           138669.199925   \n",
       "3        17.0       1977   0.437885  ...           105638.516748   \n",
       "4        12.0       1976   0.012339  ...           129339.268164   \n",
       "\n",
       "   PricePerSquareByDistrict  KitchenSquareSharePriceByDistrict  \\\n",
       "0               4491.570378                       1.654164e+06   \n",
       "1               4491.570378                       1.654164e+06   \n",
       "2               4845.919064                       2.048088e+06   \n",
       "3               2949.975415                       1.873453e+06   \n",
       "4               4491.570378                       1.654164e+06   \n",
       "\n",
       "   KitchenSquarePerLifeSquarePriceByDistrict  PricePerLifeSquareByDistrict  \\\n",
       "0                               52823.368641                   7260.736399   \n",
       "1                               52823.368641                   7260.736399   \n",
       "2                               51163.490979                   6900.415219   \n",
       "3                               18800.568109                   3252.381904   \n",
       "4                               52823.368641                   7260.736399   \n",
       "\n",
       "   PricePerKitchenSquareByDistrict  PricePerUsefulSquareByDistrict  \\\n",
       "0                     32362.565852                   283160.414019   \n",
       "1                     32362.565852                   283160.414019   \n",
       "2                     37175.441994                   289882.903940   \n",
       "3                     29451.448620                   168158.738317   \n",
       "4                     32362.565852                   283160.414019   \n",
       "\n",
       "   RoomSquarePriceByDistrict  TotalRoomSquarePriceByDistrict  \\\n",
       "0               13042.524599                     8359.555280   \n",
       "1               13042.524599                     8359.555280   \n",
       "2               11998.984014                     8986.992619   \n",
       "3                6045.861014                     4161.837095   \n",
       "4               13042.524599                     8359.555280   \n",
       "\n",
       "   KitchenRoomSquarePriceByDistrict  \n",
       "0                      64981.638037  \n",
       "1                      64981.638037  \n",
       "2                      82671.459029  \n",
       "3                      61739.842948  \n",
       "4                      64981.638037  \n",
       "\n",
       "[5 rows x 49 columns]"
      ]
     },
     "execution_count": 341,
     "metadata": {},
     "output_type": "execute_result"
    }
   ],
   "source": [
    "get_dummies(train_df)"
   ]
  },
  {
   "cell_type": "code",
   "execution_count": 342,
   "metadata": {},
   "outputs": [
    {
     "data": {
      "text/html": [
       "<div>\n",
       "<style scoped>\n",
       "    .dataframe tbody tr th:only-of-type {\n",
       "        vertical-align: middle;\n",
       "    }\n",
       "\n",
       "    .dataframe tbody tr th {\n",
       "        vertical-align: top;\n",
       "    }\n",
       "\n",
       "    .dataframe thead th {\n",
       "        text-align: right;\n",
       "    }\n",
       "</style>\n",
       "<table border=\"1\" class=\"dataframe\">\n",
       "  <thead>\n",
       "    <tr style=\"text-align: right;\">\n",
       "      <th></th>\n",
       "      <th>Id</th>\n",
       "      <th>DistrictId</th>\n",
       "      <th>Rooms</th>\n",
       "      <th>Square</th>\n",
       "      <th>LifeSquare</th>\n",
       "      <th>KitchenSquare</th>\n",
       "      <th>Floor</th>\n",
       "      <th>HouseFloor</th>\n",
       "      <th>HouseYear</th>\n",
       "      <th>Ecology_1</th>\n",
       "      <th>...</th>\n",
       "      <th>PricePerUsefulSquareByDistrict</th>\n",
       "      <th>RoomSquarePriceByDistrict</th>\n",
       "      <th>TotalRoomSquarePriceByDistrict</th>\n",
       "      <th>KitchenRoomSquarePriceByDistrict</th>\n",
       "      <th>LifeSquarePerSquare</th>\n",
       "      <th>KitchenSquareShare</th>\n",
       "      <th>KitchenSquarePerLifeSquare</th>\n",
       "      <th>UsefulSquare</th>\n",
       "      <th>TotalRoomSquare</th>\n",
       "      <th>KitchenRoomSquare</th>\n",
       "    </tr>\n",
       "  </thead>\n",
       "  <tbody>\n",
       "    <tr>\n",
       "      <td>0</td>\n",
       "      <td>725</td>\n",
       "      <td>58</td>\n",
       "      <td>2.0</td>\n",
       "      <td>49.882643</td>\n",
       "      <td>33.432782</td>\n",
       "      <td>6.0</td>\n",
       "      <td>6</td>\n",
       "      <td>14.0</td>\n",
       "      <td>1972</td>\n",
       "      <td>0.310199</td>\n",
       "      <td>...</td>\n",
       "      <td>168158.738317</td>\n",
       "      <td>6045.861014</td>\n",
       "      <td>4161.837095</td>\n",
       "      <td>61739.842948</td>\n",
       "      <td>0.670229</td>\n",
       "      <td>0.120282</td>\n",
       "      <td>0.179465</td>\n",
       "      <td>0.790511</td>\n",
       "      <td>24.941322</td>\n",
       "      <td>3.0</td>\n",
       "    </tr>\n",
       "    <tr>\n",
       "      <td>1</td>\n",
       "      <td>15856</td>\n",
       "      <td>74</td>\n",
       "      <td>2.0</td>\n",
       "      <td>69.263183</td>\n",
       "      <td>68.263183</td>\n",
       "      <td>1.0</td>\n",
       "      <td>6</td>\n",
       "      <td>1.0</td>\n",
       "      <td>1977</td>\n",
       "      <td>0.075779</td>\n",
       "      <td>...</td>\n",
       "      <td>227407.261398</td>\n",
       "      <td>6128.170645</td>\n",
       "      <td>5541.784475</td>\n",
       "      <td>126233.579198</td>\n",
       "      <td>0.985562</td>\n",
       "      <td>0.014438</td>\n",
       "      <td>0.014649</td>\n",
       "      <td>1.000000</td>\n",
       "      <td>34.631592</td>\n",
       "      <td>0.5</td>\n",
       "    </tr>\n",
       "    <tr>\n",
       "      <td>2</td>\n",
       "      <td>5480</td>\n",
       "      <td>999</td>\n",
       "      <td>1.0</td>\n",
       "      <td>13.597819</td>\n",
       "      <td>15.948246</td>\n",
       "      <td>12.0</td>\n",
       "      <td>2</td>\n",
       "      <td>5.0</td>\n",
       "      <td>1909</td>\n",
       "      <td>0.000000</td>\n",
       "      <td>...</td>\n",
       "      <td>283160.414019</td>\n",
       "      <td>13042.524599</td>\n",
       "      <td>8359.555280</td>\n",
       "      <td>64981.638037</td>\n",
       "      <td>1.172853</td>\n",
       "      <td>0.882494</td>\n",
       "      <td>0.752434</td>\n",
       "      <td>2.055348</td>\n",
       "      <td>13.597819</td>\n",
       "      <td>12.0</td>\n",
       "    </tr>\n",
       "    <tr>\n",
       "      <td>3</td>\n",
       "      <td>15664</td>\n",
       "      <td>999</td>\n",
       "      <td>2.0</td>\n",
       "      <td>73.046609</td>\n",
       "      <td>51.940842</td>\n",
       "      <td>9.0</td>\n",
       "      <td>22</td>\n",
       "      <td>22.0</td>\n",
       "      <td>2007</td>\n",
       "      <td>0.101872</td>\n",
       "      <td>...</td>\n",
       "      <td>283160.414019</td>\n",
       "      <td>13042.524599</td>\n",
       "      <td>8359.555280</td>\n",
       "      <td>64981.638037</td>\n",
       "      <td>0.711064</td>\n",
       "      <td>0.123209</td>\n",
       "      <td>0.173274</td>\n",
       "      <td>0.834273</td>\n",
       "      <td>36.523305</td>\n",
       "      <td>4.5</td>\n",
       "    </tr>\n",
       "    <tr>\n",
       "      <td>4</td>\n",
       "      <td>14275</td>\n",
       "      <td>27</td>\n",
       "      <td>1.0</td>\n",
       "      <td>47.527111</td>\n",
       "      <td>43.387569</td>\n",
       "      <td>1.0</td>\n",
       "      <td>17</td>\n",
       "      <td>17.0</td>\n",
       "      <td>2017</td>\n",
       "      <td>0.072158</td>\n",
       "      <td>...</td>\n",
       "      <td>162664.857873</td>\n",
       "      <td>5845.122886</td>\n",
       "      <td>4375.964765</td>\n",
       "      <td>66633.877137</td>\n",
       "      <td>0.912901</td>\n",
       "      <td>0.021041</td>\n",
       "      <td>0.023048</td>\n",
       "      <td>0.933942</td>\n",
       "      <td>47.527111</td>\n",
       "      <td>1.0</td>\n",
       "    </tr>\n",
       "  </tbody>\n",
       "</table>\n",
       "<p>5 rows × 36 columns</p>\n",
       "</div>"
      ],
      "text/plain": [
       "      Id  DistrictId  Rooms     Square  LifeSquare  KitchenSquare  Floor  \\\n",
       "0    725          58    2.0  49.882643   33.432782            6.0      6   \n",
       "1  15856          74    2.0  69.263183   68.263183            1.0      6   \n",
       "2   5480         999    1.0  13.597819   15.948246           12.0      2   \n",
       "3  15664         999    2.0  73.046609   51.940842            9.0     22   \n",
       "4  14275          27    1.0  47.527111   43.387569            1.0     17   \n",
       "\n",
       "   HouseFloor  HouseYear  Ecology_1  ...  PricePerUsefulSquareByDistrict  \\\n",
       "0        14.0       1972   0.310199  ...                   168158.738317   \n",
       "1         1.0       1977   0.075779  ...                   227407.261398   \n",
       "2         5.0       1909   0.000000  ...                   283160.414019   \n",
       "3        22.0       2007   0.101872  ...                   283160.414019   \n",
       "4        17.0       2017   0.072158  ...                   162664.857873   \n",
       "\n",
       "   RoomSquarePriceByDistrict  TotalRoomSquarePriceByDistrict  \\\n",
       "0                6045.861014                     4161.837095   \n",
       "1                6128.170645                     5541.784475   \n",
       "2               13042.524599                     8359.555280   \n",
       "3               13042.524599                     8359.555280   \n",
       "4                5845.122886                     4375.964765   \n",
       "\n",
       "   KitchenRoomSquarePriceByDistrict  LifeSquarePerSquare  KitchenSquareShare  \\\n",
       "0                      61739.842948             0.670229            0.120282   \n",
       "1                     126233.579198             0.985562            0.014438   \n",
       "2                      64981.638037             1.172853            0.882494   \n",
       "3                      64981.638037             0.711064            0.123209   \n",
       "4                      66633.877137             0.912901            0.021041   \n",
       "\n",
       "   KitchenSquarePerLifeSquare  UsefulSquare  TotalRoomSquare  \\\n",
       "0                    0.179465      0.790511        24.941322   \n",
       "1                    0.014649      1.000000        34.631592   \n",
       "2                    0.752434      2.055348        13.597819   \n",
       "3                    0.173274      0.834273        36.523305   \n",
       "4                    0.023048      0.933942        47.527111   \n",
       "\n",
       "   KitchenRoomSquare  \n",
       "0                3.0  \n",
       "1                0.5  \n",
       "2               12.0  \n",
       "3                4.5  \n",
       "4                1.0  \n",
       "\n",
       "[5 rows x 36 columns]"
      ]
     },
     "execution_count": 342,
     "metadata": {},
     "output_type": "execute_result"
    }
   ],
   "source": [
    "get_dummies(test_df)"
   ]
  },
  {
   "cell_type": "markdown",
   "metadata": {},
   "source": [
    "Удалю уже ненужные столбцы."
   ]
  },
  {
   "cell_type": "code",
   "execution_count": 343,
   "metadata": {},
   "outputs": [],
   "source": [
    "def delete_columns(df):\n",
    "    df.drop('DistrictId', axis=1, inplace=True)\n",
    "    df.drop('HouseYear', axis=1, inplace=True)\n",
    "    df.drop('PricePerSquare', axis=1, inplace=True)\n",
    "    df.drop('PricePerRoom', axis=1, inplace=True)\n",
    "    df.drop('KitchenSquareSharePrice', axis=1, inplace=True)\n",
    "    df.drop('KitchenSquarePerLifeSquarePrice', axis=1, inplace=True)\n",
    "    df.drop('PricePerLifeSquare', axis=1, inplace=True)\n",
    "    df.drop('PricePerKitchenSquare', axis=1, inplace=True)\n",
    "    df.drop('PricePerUsefulSquare', axis=1, inplace=True)\n",
    "    df.drop('RoomSquarePrice', axis=1, inplace=True)\n",
    "    df.drop('TotalRoomSquarePrice', axis=1, inplace=True)\n",
    "    df.drop('KitchenRoomSquarePrice', axis=1, inplace=True)\n",
    "    return df.shape"
   ]
  },
  {
   "cell_type": "code",
   "execution_count": 344,
   "metadata": {},
   "outputs": [
    {
     "data": {
      "text/plain": [
       "(10000, 37)"
      ]
     },
     "execution_count": 344,
     "metadata": {},
     "output_type": "execute_result"
    }
   ],
   "source": [
    "delete_columns(train_df)"
   ]
  },
  {
   "cell_type": "code",
   "execution_count": 345,
   "metadata": {},
   "outputs": [],
   "source": [
    "test_df['HouseAge'] = pd.DataFrame(2020 - test_df['HouseYear'])\n",
    "test_df['RoomSquare'] = test_df['LifeSquare'] / test_df['Rooms']"
   ]
  },
  {
   "cell_type": "code",
   "execution_count": 346,
   "metadata": {},
   "outputs": [],
   "source": [
    "test_df.drop('DistrictId', axis=1, inplace=True)\n",
    "test_df.drop('HouseYear', axis=1, inplace=True)"
   ]
  },
  {
   "cell_type": "code",
   "execution_count": 347,
   "metadata": {},
   "outputs": [
    {
     "data": {
      "text/plain": [
       "(10000, 37)"
      ]
     },
     "execution_count": 347,
     "metadata": {},
     "output_type": "execute_result"
    }
   ],
   "source": [
    "train_df.shape"
   ]
  },
  {
   "cell_type": "code",
   "execution_count": 348,
   "metadata": {},
   "outputs": [
    {
     "data": {
      "text/plain": [
       "(5000, 36)"
      ]
     },
     "execution_count": 348,
     "metadata": {},
     "output_type": "execute_result"
    }
   ],
   "source": [
    "test_df.shape"
   ]
  },
  {
   "cell_type": "code",
   "execution_count": 349,
   "metadata": {},
   "outputs": [],
   "source": [
    "train_df.to_csv('train_prepared_36var_copy.csv', index=False)\n",
    "test_df.to_csv('test_prepared_36var_copy.csv', index=False)"
   ]
  },
  {
   "cell_type": "markdown",
   "metadata": {},
   "source": [
    "**Обучение**"
   ]
  },
  {
   "cell_type": "code",
   "execution_count": 350,
   "metadata": {},
   "outputs": [
    {
     "data": {
      "text/html": [
       "<div>\n",
       "<style scoped>\n",
       "    .dataframe tbody tr th:only-of-type {\n",
       "        vertical-align: middle;\n",
       "    }\n",
       "\n",
       "    .dataframe tbody tr th {\n",
       "        vertical-align: top;\n",
       "    }\n",
       "\n",
       "    .dataframe thead th {\n",
       "        text-align: right;\n",
       "    }\n",
       "</style>\n",
       "<table border=\"1\" class=\"dataframe\">\n",
       "  <thead>\n",
       "    <tr style=\"text-align: right;\">\n",
       "      <th></th>\n",
       "      <th>Id</th>\n",
       "      <th>Rooms</th>\n",
       "      <th>Square</th>\n",
       "      <th>LifeSquare</th>\n",
       "      <th>KitchenSquare</th>\n",
       "      <th>Floor</th>\n",
       "      <th>HouseFloor</th>\n",
       "      <th>Ecology_1</th>\n",
       "      <th>Ecology_2</th>\n",
       "      <th>Ecology_3</th>\n",
       "      <th>...</th>\n",
       "      <th>PricePerRoomByDistrict</th>\n",
       "      <th>PricePerSquareByDistrict</th>\n",
       "      <th>KitchenSquareSharePriceByDistrict</th>\n",
       "      <th>KitchenSquarePerLifeSquarePriceByDistrict</th>\n",
       "      <th>PricePerLifeSquareByDistrict</th>\n",
       "      <th>PricePerKitchenSquareByDistrict</th>\n",
       "      <th>PricePerUsefulSquareByDistrict</th>\n",
       "      <th>RoomSquarePriceByDistrict</th>\n",
       "      <th>TotalRoomSquarePriceByDistrict</th>\n",
       "      <th>KitchenRoomSquarePriceByDistrict</th>\n",
       "    </tr>\n",
       "  </thead>\n",
       "  <tbody>\n",
       "    <tr>\n",
       "      <td>0</td>\n",
       "      <td>14038</td>\n",
       "      <td>2.0</td>\n",
       "      <td>47.981561</td>\n",
       "      <td>29.442751</td>\n",
       "      <td>6.0</td>\n",
       "      <td>7</td>\n",
       "      <td>9.0</td>\n",
       "      <td>0.089040</td>\n",
       "      <td>1</td>\n",
       "      <td>1</td>\n",
       "      <td>...</td>\n",
       "      <td>129339.268164</td>\n",
       "      <td>4491.570378</td>\n",
       "      <td>1.654164e+06</td>\n",
       "      <td>52823.368641</td>\n",
       "      <td>7260.736399</td>\n",
       "      <td>32362.565852</td>\n",
       "      <td>283160.414019</td>\n",
       "      <td>13042.524599</td>\n",
       "      <td>8359.555280</td>\n",
       "      <td>64981.638037</td>\n",
       "    </tr>\n",
       "    <tr>\n",
       "      <td>1</td>\n",
       "      <td>15053</td>\n",
       "      <td>3.0</td>\n",
       "      <td>65.683640</td>\n",
       "      <td>40.049543</td>\n",
       "      <td>8.0</td>\n",
       "      <td>7</td>\n",
       "      <td>9.0</td>\n",
       "      <td>0.000070</td>\n",
       "      <td>1</td>\n",
       "      <td>1</td>\n",
       "      <td>...</td>\n",
       "      <td>129339.268164</td>\n",
       "      <td>4491.570378</td>\n",
       "      <td>1.654164e+06</td>\n",
       "      <td>52823.368641</td>\n",
       "      <td>7260.736399</td>\n",
       "      <td>32362.565852</td>\n",
       "      <td>283160.414019</td>\n",
       "      <td>13042.524599</td>\n",
       "      <td>8359.555280</td>\n",
       "      <td>64981.638037</td>\n",
       "    </tr>\n",
       "    <tr>\n",
       "      <td>2</td>\n",
       "      <td>4765</td>\n",
       "      <td>2.0</td>\n",
       "      <td>44.947953</td>\n",
       "      <td>29.197612</td>\n",
       "      <td>6.0</td>\n",
       "      <td>8</td>\n",
       "      <td>12.0</td>\n",
       "      <td>0.049637</td>\n",
       "      <td>1</td>\n",
       "      <td>1</td>\n",
       "      <td>...</td>\n",
       "      <td>138669.199925</td>\n",
       "      <td>4845.919064</td>\n",
       "      <td>2.048088e+06</td>\n",
       "      <td>51163.490979</td>\n",
       "      <td>6900.415219</td>\n",
       "      <td>37175.441994</td>\n",
       "      <td>289882.903940</td>\n",
       "      <td>11998.984014</td>\n",
       "      <td>8986.992619</td>\n",
       "      <td>82671.459029</td>\n",
       "    </tr>\n",
       "    <tr>\n",
       "      <td>3</td>\n",
       "      <td>5809</td>\n",
       "      <td>2.0</td>\n",
       "      <td>53.352981</td>\n",
       "      <td>52.731512</td>\n",
       "      <td>9.0</td>\n",
       "      <td>8</td>\n",
       "      <td>17.0</td>\n",
       "      <td>0.437885</td>\n",
       "      <td>1</td>\n",
       "      <td>1</td>\n",
       "      <td>...</td>\n",
       "      <td>105638.516748</td>\n",
       "      <td>2949.975415</td>\n",
       "      <td>1.873453e+06</td>\n",
       "      <td>18800.568109</td>\n",
       "      <td>3252.381904</td>\n",
       "      <td>29451.448620</td>\n",
       "      <td>168158.738317</td>\n",
       "      <td>6045.861014</td>\n",
       "      <td>4161.837095</td>\n",
       "      <td>61739.842948</td>\n",
       "    </tr>\n",
       "    <tr>\n",
       "      <td>4</td>\n",
       "      <td>10783</td>\n",
       "      <td>1.0</td>\n",
       "      <td>39.649192</td>\n",
       "      <td>23.776169</td>\n",
       "      <td>7.0</td>\n",
       "      <td>11</td>\n",
       "      <td>12.0</td>\n",
       "      <td>0.012339</td>\n",
       "      <td>1</td>\n",
       "      <td>1</td>\n",
       "      <td>...</td>\n",
       "      <td>129339.268164</td>\n",
       "      <td>4491.570378</td>\n",
       "      <td>1.654164e+06</td>\n",
       "      <td>52823.368641</td>\n",
       "      <td>7260.736399</td>\n",
       "      <td>32362.565852</td>\n",
       "      <td>283160.414019</td>\n",
       "      <td>13042.524599</td>\n",
       "      <td>8359.555280</td>\n",
       "      <td>64981.638037</td>\n",
       "    </tr>\n",
       "  </tbody>\n",
       "</table>\n",
       "<p>5 rows × 37 columns</p>\n",
       "</div>"
      ],
      "text/plain": [
       "      Id  Rooms     Square  LifeSquare  KitchenSquare  Floor  HouseFloor  \\\n",
       "0  14038    2.0  47.981561   29.442751            6.0      7         9.0   \n",
       "1  15053    3.0  65.683640   40.049543            8.0      7         9.0   \n",
       "2   4765    2.0  44.947953   29.197612            6.0      8        12.0   \n",
       "3   5809    2.0  53.352981   52.731512            9.0      8        17.0   \n",
       "4  10783    1.0  39.649192   23.776169            7.0     11        12.0   \n",
       "\n",
       "   Ecology_1  Ecology_2  Ecology_3  ...  PricePerRoomByDistrict  \\\n",
       "0   0.089040          1          1  ...           129339.268164   \n",
       "1   0.000070          1          1  ...           129339.268164   \n",
       "2   0.049637          1          1  ...           138669.199925   \n",
       "3   0.437885          1          1  ...           105638.516748   \n",
       "4   0.012339          1          1  ...           129339.268164   \n",
       "\n",
       "   PricePerSquareByDistrict  KitchenSquareSharePriceByDistrict  \\\n",
       "0               4491.570378                       1.654164e+06   \n",
       "1               4491.570378                       1.654164e+06   \n",
       "2               4845.919064                       2.048088e+06   \n",
       "3               2949.975415                       1.873453e+06   \n",
       "4               4491.570378                       1.654164e+06   \n",
       "\n",
       "   KitchenSquarePerLifeSquarePriceByDistrict  PricePerLifeSquareByDistrict  \\\n",
       "0                               52823.368641                   7260.736399   \n",
       "1                               52823.368641                   7260.736399   \n",
       "2                               51163.490979                   6900.415219   \n",
       "3                               18800.568109                   3252.381904   \n",
       "4                               52823.368641                   7260.736399   \n",
       "\n",
       "   PricePerKitchenSquareByDistrict  PricePerUsefulSquareByDistrict  \\\n",
       "0                     32362.565852                   283160.414019   \n",
       "1                     32362.565852                   283160.414019   \n",
       "2                     37175.441994                   289882.903940   \n",
       "3                     29451.448620                   168158.738317   \n",
       "4                     32362.565852                   283160.414019   \n",
       "\n",
       "   RoomSquarePriceByDistrict  TotalRoomSquarePriceByDistrict  \\\n",
       "0               13042.524599                     8359.555280   \n",
       "1               13042.524599                     8359.555280   \n",
       "2               11998.984014                     8986.992619   \n",
       "3                6045.861014                     4161.837095   \n",
       "4               13042.524599                     8359.555280   \n",
       "\n",
       "   KitchenRoomSquarePriceByDistrict  \n",
       "0                      64981.638037  \n",
       "1                      64981.638037  \n",
       "2                      82671.459029  \n",
       "3                      61739.842948  \n",
       "4                      64981.638037  \n",
       "\n",
       "[5 rows x 37 columns]"
      ]
     },
     "execution_count": 350,
     "metadata": {},
     "output_type": "execute_result"
    }
   ],
   "source": [
    "train_df = pd.read_csv('train_prepared_36var_copy.csv', encoding='utf-8')\n",
    "train_df.head()"
   ]
  },
  {
   "cell_type": "code",
   "execution_count": 351,
   "metadata": {},
   "outputs": [
    {
     "data": {
      "text/html": [
       "<div>\n",
       "<style scoped>\n",
       "    .dataframe tbody tr th:only-of-type {\n",
       "        vertical-align: middle;\n",
       "    }\n",
       "\n",
       "    .dataframe tbody tr th {\n",
       "        vertical-align: top;\n",
       "    }\n",
       "\n",
       "    .dataframe thead th {\n",
       "        text-align: right;\n",
       "    }\n",
       "</style>\n",
       "<table border=\"1\" class=\"dataframe\">\n",
       "  <thead>\n",
       "    <tr style=\"text-align: right;\">\n",
       "      <th></th>\n",
       "      <th>Id</th>\n",
       "      <th>Rooms</th>\n",
       "      <th>Square</th>\n",
       "      <th>LifeSquare</th>\n",
       "      <th>KitchenSquare</th>\n",
       "      <th>Floor</th>\n",
       "      <th>HouseFloor</th>\n",
       "      <th>Ecology_1</th>\n",
       "      <th>Ecology_2</th>\n",
       "      <th>Ecology_3</th>\n",
       "      <th>...</th>\n",
       "      <th>TotalRoomSquarePriceByDistrict</th>\n",
       "      <th>KitchenRoomSquarePriceByDistrict</th>\n",
       "      <th>LifeSquarePerSquare</th>\n",
       "      <th>KitchenSquareShare</th>\n",
       "      <th>KitchenSquarePerLifeSquare</th>\n",
       "      <th>UsefulSquare</th>\n",
       "      <th>TotalRoomSquare</th>\n",
       "      <th>KitchenRoomSquare</th>\n",
       "      <th>HouseAge</th>\n",
       "      <th>RoomSquare</th>\n",
       "    </tr>\n",
       "  </thead>\n",
       "  <tbody>\n",
       "    <tr>\n",
       "      <td>0</td>\n",
       "      <td>725</td>\n",
       "      <td>2.0</td>\n",
       "      <td>49.882643</td>\n",
       "      <td>33.432782</td>\n",
       "      <td>6.0</td>\n",
       "      <td>6</td>\n",
       "      <td>14.0</td>\n",
       "      <td>0.310199</td>\n",
       "      <td>1</td>\n",
       "      <td>1</td>\n",
       "      <td>...</td>\n",
       "      <td>4161.837095</td>\n",
       "      <td>61739.842948</td>\n",
       "      <td>0.670229</td>\n",
       "      <td>0.120282</td>\n",
       "      <td>0.179465</td>\n",
       "      <td>0.790511</td>\n",
       "      <td>24.941322</td>\n",
       "      <td>3.0</td>\n",
       "      <td>48</td>\n",
       "      <td>16.716391</td>\n",
       "    </tr>\n",
       "    <tr>\n",
       "      <td>1</td>\n",
       "      <td>15856</td>\n",
       "      <td>2.0</td>\n",
       "      <td>69.263183</td>\n",
       "      <td>68.263183</td>\n",
       "      <td>1.0</td>\n",
       "      <td>6</td>\n",
       "      <td>1.0</td>\n",
       "      <td>0.075779</td>\n",
       "      <td>1</td>\n",
       "      <td>1</td>\n",
       "      <td>...</td>\n",
       "      <td>5541.784475</td>\n",
       "      <td>126233.579198</td>\n",
       "      <td>0.985562</td>\n",
       "      <td>0.014438</td>\n",
       "      <td>0.014649</td>\n",
       "      <td>1.000000</td>\n",
       "      <td>34.631592</td>\n",
       "      <td>0.5</td>\n",
       "      <td>43</td>\n",
       "      <td>34.131592</td>\n",
       "    </tr>\n",
       "    <tr>\n",
       "      <td>2</td>\n",
       "      <td>5480</td>\n",
       "      <td>1.0</td>\n",
       "      <td>13.597819</td>\n",
       "      <td>15.948246</td>\n",
       "      <td>12.0</td>\n",
       "      <td>2</td>\n",
       "      <td>5.0</td>\n",
       "      <td>0.000000</td>\n",
       "      <td>1</td>\n",
       "      <td>1</td>\n",
       "      <td>...</td>\n",
       "      <td>8359.555280</td>\n",
       "      <td>64981.638037</td>\n",
       "      <td>1.172853</td>\n",
       "      <td>0.882494</td>\n",
       "      <td>0.752434</td>\n",
       "      <td>2.055348</td>\n",
       "      <td>13.597819</td>\n",
       "      <td>12.0</td>\n",
       "      <td>111</td>\n",
       "      <td>15.948246</td>\n",
       "    </tr>\n",
       "    <tr>\n",
       "      <td>3</td>\n",
       "      <td>15664</td>\n",
       "      <td>2.0</td>\n",
       "      <td>73.046609</td>\n",
       "      <td>51.940842</td>\n",
       "      <td>9.0</td>\n",
       "      <td>22</td>\n",
       "      <td>22.0</td>\n",
       "      <td>0.101872</td>\n",
       "      <td>1</td>\n",
       "      <td>1</td>\n",
       "      <td>...</td>\n",
       "      <td>8359.555280</td>\n",
       "      <td>64981.638037</td>\n",
       "      <td>0.711064</td>\n",
       "      <td>0.123209</td>\n",
       "      <td>0.173274</td>\n",
       "      <td>0.834273</td>\n",
       "      <td>36.523305</td>\n",
       "      <td>4.5</td>\n",
       "      <td>13</td>\n",
       "      <td>25.970421</td>\n",
       "    </tr>\n",
       "    <tr>\n",
       "      <td>4</td>\n",
       "      <td>14275</td>\n",
       "      <td>1.0</td>\n",
       "      <td>47.527111</td>\n",
       "      <td>43.387569</td>\n",
       "      <td>1.0</td>\n",
       "      <td>17</td>\n",
       "      <td>17.0</td>\n",
       "      <td>0.072158</td>\n",
       "      <td>1</td>\n",
       "      <td>1</td>\n",
       "      <td>...</td>\n",
       "      <td>4375.964765</td>\n",
       "      <td>66633.877137</td>\n",
       "      <td>0.912901</td>\n",
       "      <td>0.021041</td>\n",
       "      <td>0.023048</td>\n",
       "      <td>0.933942</td>\n",
       "      <td>47.527111</td>\n",
       "      <td>1.0</td>\n",
       "      <td>3</td>\n",
       "      <td>43.387569</td>\n",
       "    </tr>\n",
       "  </tbody>\n",
       "</table>\n",
       "<p>5 rows × 36 columns</p>\n",
       "</div>"
      ],
      "text/plain": [
       "      Id  Rooms     Square  LifeSquare  KitchenSquare  Floor  HouseFloor  \\\n",
       "0    725    2.0  49.882643   33.432782            6.0      6        14.0   \n",
       "1  15856    2.0  69.263183   68.263183            1.0      6         1.0   \n",
       "2   5480    1.0  13.597819   15.948246           12.0      2         5.0   \n",
       "3  15664    2.0  73.046609   51.940842            9.0     22        22.0   \n",
       "4  14275    1.0  47.527111   43.387569            1.0     17        17.0   \n",
       "\n",
       "   Ecology_1  Ecology_2  Ecology_3  ...  TotalRoomSquarePriceByDistrict  \\\n",
       "0   0.310199          1          1  ...                     4161.837095   \n",
       "1   0.075779          1          1  ...                     5541.784475   \n",
       "2   0.000000          1          1  ...                     8359.555280   \n",
       "3   0.101872          1          1  ...                     8359.555280   \n",
       "4   0.072158          1          1  ...                     4375.964765   \n",
       "\n",
       "   KitchenRoomSquarePriceByDistrict  LifeSquarePerSquare  KitchenSquareShare  \\\n",
       "0                      61739.842948             0.670229            0.120282   \n",
       "1                     126233.579198             0.985562            0.014438   \n",
       "2                      64981.638037             1.172853            0.882494   \n",
       "3                      64981.638037             0.711064            0.123209   \n",
       "4                      66633.877137             0.912901            0.021041   \n",
       "\n",
       "   KitchenSquarePerLifeSquare  UsefulSquare  TotalRoomSquare  \\\n",
       "0                    0.179465      0.790511        24.941322   \n",
       "1                    0.014649      1.000000        34.631592   \n",
       "2                    0.752434      2.055348        13.597819   \n",
       "3                    0.173274      0.834273        36.523305   \n",
       "4                    0.023048      0.933942        47.527111   \n",
       "\n",
       "   KitchenRoomSquare  HouseAge  RoomSquare  \n",
       "0                3.0        48   16.716391  \n",
       "1                0.5        43   34.131592  \n",
       "2               12.0       111   15.948246  \n",
       "3                4.5        13   25.970421  \n",
       "4                1.0         3   43.387569  \n",
       "\n",
       "[5 rows x 36 columns]"
      ]
     },
     "execution_count": 351,
     "metadata": {},
     "output_type": "execute_result"
    }
   ],
   "source": [
    "test_df = pd.read_csv('test_prepared_36var_copy.csv', encoding='utf-8')\n",
    "test_df.head()"
   ]
  },
  {
   "cell_type": "code",
   "execution_count": 352,
   "metadata": {},
   "outputs": [],
   "source": [
    "feature_names = train_df.columns.tolist()\n",
    "feature_names.remove('Id')\n",
    "feature_names.remove('Price')"
   ]
  },
  {
   "cell_type": "markdown",
   "metadata": {},
   "source": [
    "Для моделирования буду использовать бустинг:\n",
    "* GradientBoostingRegressor\n",
    "* XGBRegressor\n",
    "* LGBMRegressor"
   ]
  },
  {
   "cell_type": "markdown",
   "metadata": {},
   "source": [
    "На каждой n итерации бустинг использует данные об ошибках n-1 итерации. Ошибки отдельных алгоритмов бустинга взаимно\n",
    "компенсируются. Задача сводится к тому, чтобы найти такие функциональные приближения, чтобы в среднем минимизировать\n",
    "функцию потерь градиента на тренировочных данных. В нашем случае решается задача МНК-регрессии с выправлением предсказаний\n",
    "по остаткам путём минимизации квадрата разности между остатками и предсказаниями. С использованием информации о функции потерь \n",
    "на n-1 итерации находим оптимальный коэффициент параметра относительно функции потерь."
   ]
  },
  {
   "cell_type": "markdown",
   "metadata": {},
   "source": [
    "![title](boosting.png)"
   ]
  },
  {
   "cell_type": "code",
   "execution_count": 353,
   "metadata": {},
   "outputs": [],
   "source": [
    "def evaluate_model(to_fit, x, y):\n",
    "    kf = KFold(n_splits=10, random_state=42, shuffle=True)\n",
    "    cv_score = cross_val_score(to_fit, x, y, scoring='r2', cv=kf)\n",
    "    print('R2: {:.5f}'.format(cv_score.mean()))"
   ]
  },
  {
   "cell_type": "markdown",
   "metadata": {},
   "source": [
    "Градиентный бустинг"
   ]
  },
  {
   "cell_type": "code",
   "execution_count": 354,
   "metadata": {},
   "outputs": [],
   "source": [
    "gb_model = GradientBoostingRegressor(n_estimators=100, max_depth=7,  random_state=42)"
   ]
  },
  {
   "cell_type": "code",
   "execution_count": 356,
   "metadata": {},
   "outputs": [
    {
     "name": "stdout",
     "output_type": "stream",
     "text": [
      "R2: 0.74524\n"
     ]
    }
   ],
   "source": [
    "evaluate_model(gb_model, train_df[feature_names], train_df['Price'])"
   ]
  },
  {
   "cell_type": "markdown",
   "metadata": {},
   "source": [
    "XGBoost"
   ]
  },
  {
   "cell_type": "code",
   "execution_count": 357,
   "metadata": {},
   "outputs": [],
   "source": [
    "xgb_model = XGBRegressor(n_estimators=100, max_depth=7, random_state=42)"
   ]
  },
  {
   "cell_type": "code",
   "execution_count": 359,
   "metadata": {},
   "outputs": [
    {
     "name": "stdout",
     "output_type": "stream",
     "text": [
      "[16:01:35] WARNING: src/objective/regression_obj.cu:152: reg:linear is now deprecated in favor of reg:squarederror.\n",
      "[16:01:39] WARNING: src/objective/regression_obj.cu:152: reg:linear is now deprecated in favor of reg:squarederror.\n",
      "[16:01:43] WARNING: src/objective/regression_obj.cu:152: reg:linear is now deprecated in favor of reg:squarederror.\n",
      "[16:01:48] WARNING: src/objective/regression_obj.cu:152: reg:linear is now deprecated in favor of reg:squarederror.\n",
      "[16:01:52] WARNING: src/objective/regression_obj.cu:152: reg:linear is now deprecated in favor of reg:squarederror.\n",
      "[16:01:56] WARNING: src/objective/regression_obj.cu:152: reg:linear is now deprecated in favor of reg:squarederror.\n",
      "[16:02:00] WARNING: src/objective/regression_obj.cu:152: reg:linear is now deprecated in favor of reg:squarederror.\n",
      "[16:02:04] WARNING: src/objective/regression_obj.cu:152: reg:linear is now deprecated in favor of reg:squarederror.\n",
      "[16:02:08] WARNING: src/objective/regression_obj.cu:152: reg:linear is now deprecated in favor of reg:squarederror.\n",
      "[16:02:13] WARNING: src/objective/regression_obj.cu:152: reg:linear is now deprecated in favor of reg:squarederror.\n",
      "R2: 0.74833\n"
     ]
    }
   ],
   "source": [
    "evaluate_model(xgb_model, train_df[feature_names], train_df['Price'])"
   ]
  },
  {
   "cell_type": "markdown",
   "metadata": {},
   "source": [
    "LightGBM"
   ]
  },
  {
   "cell_type": "code",
   "execution_count": 360,
   "metadata": {},
   "outputs": [],
   "source": [
    "light_model = LGBMRegressor(n_estimators=300, max_depth=8, min_samples_leaf=10, random_state=42)"
   ]
  },
  {
   "cell_type": "code",
   "execution_count": 362,
   "metadata": {},
   "outputs": [
    {
     "name": "stdout",
     "output_type": "stream",
     "text": [
      "R2: 0.74590\n"
     ]
    }
   ],
   "source": [
    "evaluate_model(light_model, train_df[feature_names], train_df['Price'])"
   ]
  },
  {
   "cell_type": "markdown",
   "metadata": {},
   "source": [
    "CatBoost"
   ]
  },
  {
   "cell_type": "code",
   "execution_count": 366,
   "metadata": {},
   "outputs": [],
   "source": [
    "ctb_model = CatBoostRegressor(random_seed=42, eval_metric='R2', silent=True, use_best_model=False)"
   ]
  },
  {
   "cell_type": "code",
   "execution_count": 371,
   "metadata": {},
   "outputs": [],
   "source": [
    "cat_features = ['Floor', 'HouseFloor', 'Helthcare_2', 'PricePerRoomByDistrict', 'PricePerSquareByDistrict',  \n",
    "                'KitchenSquareSharePriceByDistrict', 'KitchenSquarePerLifeSquarePriceByDistrict', \n",
    "                'PricePerLifeSquareByDistrict', 'PricePerKitchenSquareByDistrict', 'PricePerUsefulSquareByDistrict', \n",
    "                'RoomSquarePriceByDistrict', 'TotalRoomSquarePriceByDistrict', 'KitchenRoomSquarePriceByDistrict',\n",
    "                'DistrictSize']\n",
    "\n",
    "train_df[cat_features] = train_df[cat_features].astype('str')\n",
    "test_df[cat_features] = test_df[cat_features].astype('str')"
   ]
  },
  {
   "cell_type": "code",
   "execution_count": 372,
   "metadata": {},
   "outputs": [
    {
     "name": "stdout",
     "output_type": "stream",
     "text": [
      "R2: 0.76226\n"
     ]
    }
   ],
   "source": [
    "evaluate_model(ctb_model, train_df[feature_names], train_df['Price'])"
   ]
  },
  {
   "cell_type": "markdown",
   "metadata": {},
   "source": [
    "В финальной модели использую VotingRegressor для усреднения каждого из результатов. Т.о. я сбалансирую одинаково хорошо\n",
    "работающие модели для устранения небольших индивидуальных недостатков каждой из них."
   ]
  },
  {
   "cell_type": "code",
   "execution_count": 373,
   "metadata": {},
   "outputs": [],
   "source": [
    "train_df[cat_features] = train_df[cat_features].astype('float64')\n",
    "test_df[cat_features] = test_df[cat_features].astype('float64')"
   ]
  },
  {
   "cell_type": "code",
   "execution_count": 374,
   "metadata": {},
   "outputs": [],
   "source": [
    "final_model = VotingRegressor([('model1', gb_model), ('model2', xgb_model), ('model3', light_model), ('model4', ctb_model)])"
   ]
  },
  {
   "cell_type": "code",
   "execution_count": 375,
   "metadata": {},
   "outputs": [
    {
     "name": "stdout",
     "output_type": "stream",
     "text": [
      "[16:10:43] WARNING: src/objective/regression_obj.cu:152: reg:linear is now deprecated in favor of reg:squarederror.\n",
      "[16:11:07] WARNING: src/objective/regression_obj.cu:152: reg:linear is now deprecated in favor of reg:squarederror.\n",
      "[16:11:32] WARNING: src/objective/regression_obj.cu:152: reg:linear is now deprecated in favor of reg:squarederror.\n",
      "[16:11:57] WARNING: src/objective/regression_obj.cu:152: reg:linear is now deprecated in favor of reg:squarederror.\n",
      "[16:12:22] WARNING: src/objective/regression_obj.cu:152: reg:linear is now deprecated in favor of reg:squarederror.\n",
      "[16:12:48] WARNING: src/objective/regression_obj.cu:152: reg:linear is now deprecated in favor of reg:squarederror.\n",
      "[16:13:12] WARNING: src/objective/regression_obj.cu:152: reg:linear is now deprecated in favor of reg:squarederror.\n",
      "[16:13:37] WARNING: src/objective/regression_obj.cu:152: reg:linear is now deprecated in favor of reg:squarederror.\n",
      "[16:14:02] WARNING: src/objective/regression_obj.cu:152: reg:linear is now deprecated in favor of reg:squarederror.\n",
      "[16:14:27] WARNING: src/objective/regression_obj.cu:152: reg:linear is now deprecated in favor of reg:squarederror.\n",
      "R2: 0.75984\n"
     ]
    }
   ],
   "source": [
    "evaluate_model(final_model, train_df[feature_names], train_df['Price'])"
   ]
  },
  {
   "cell_type": "markdown",
   "metadata": {},
   "source": [
    "Сделаю подгонку."
   ]
  },
  {
   "cell_type": "code",
   "execution_count": 377,
   "metadata": {},
   "outputs": [
    {
     "name": "stdout",
     "output_type": "stream",
     "text": [
      "[16:15:28] WARNING: src/objective/regression_obj.cu:152: reg:linear is now deprecated in favor of reg:squarederror.\n"
     ]
    },
    {
     "data": {
      "text/plain": [
       "VotingRegressor(estimators=[('model1',\n",
       "                             GradientBoostingRegressor(alpha=0.9,\n",
       "                                                       criterion='friedman_mse',\n",
       "                                                       init=None,\n",
       "                                                       learning_rate=0.1,\n",
       "                                                       loss='ls', max_depth=7,\n",
       "                                                       max_features=None,\n",
       "                                                       max_leaf_nodes=None,\n",
       "                                                       min_impurity_decrease=0.0,\n",
       "                                                       min_impurity_split=None,\n",
       "                                                       min_samples_leaf=1,\n",
       "                                                       min_samples_split=2,\n",
       "                                                       min_weight_fraction_leaf=0.0,\n",
       "                                                       n_estimators=100,\n",
       "                                                       n_iter_no_change=None,\n",
       "                                                       presor...\n",
       "                                           min_child_samples=20,\n",
       "                                           min_child_weight=0.001,\n",
       "                                           min_samples_leaf=10,\n",
       "                                           min_split_gain=0.0, n_estimators=300,\n",
       "                                           n_jobs=-1, num_leaves=31,\n",
       "                                           objective=None, random_state=42,\n",
       "                                           reg_alpha=0.0, reg_lambda=0.0,\n",
       "                                           silent=True, subsample=1.0,\n",
       "                                           subsample_for_bin=200000,\n",
       "                                           subsample_freq=0)),\n",
       "                            ('model4',\n",
       "                             <catboost.core.CatBoostRegressor object at 0x000001C0B017EB08>)],\n",
       "                n_jobs=None, weights=None)"
      ]
     },
     "execution_count": 377,
     "metadata": {},
     "output_type": "execute_result"
    }
   ],
   "source": [
    "final_model.fit(train_df[feature_names], train_df['Price'])"
   ]
  },
  {
   "cell_type": "markdown",
   "metadata": {},
   "source": [
    "И рассчитаю значение целевой переменной Price на тестовом датасете."
   ]
  },
  {
   "cell_type": "code",
   "execution_count": 378,
   "metadata": {},
   "outputs": [],
   "source": [
    "y_pred = final_model.predict(test_df[feature_names])"
   ]
  },
  {
   "cell_type": "code",
   "execution_count": 379,
   "metadata": {},
   "outputs": [
    {
     "data": {
      "text/html": [
       "<div>\n",
       "<style scoped>\n",
       "    .dataframe tbody tr th:only-of-type {\n",
       "        vertical-align: middle;\n",
       "    }\n",
       "\n",
       "    .dataframe tbody tr th {\n",
       "        vertical-align: top;\n",
       "    }\n",
       "\n",
       "    .dataframe thead th {\n",
       "        text-align: right;\n",
       "    }\n",
       "</style>\n",
       "<table border=\"1\" class=\"dataframe\">\n",
       "  <thead>\n",
       "    <tr style=\"text-align: right;\">\n",
       "      <th></th>\n",
       "      <th>Id</th>\n",
       "      <th>Price</th>\n",
       "    </tr>\n",
       "  </thead>\n",
       "  <tbody>\n",
       "    <tr>\n",
       "      <td>0</td>\n",
       "      <td>725</td>\n",
       "      <td>155506.666941</td>\n",
       "    </tr>\n",
       "    <tr>\n",
       "      <td>1</td>\n",
       "      <td>15856</td>\n",
       "      <td>212746.398538</td>\n",
       "    </tr>\n",
       "    <tr>\n",
       "      <td>2</td>\n",
       "      <td>5480</td>\n",
       "      <td>206650.235954</td>\n",
       "    </tr>\n",
       "    <tr>\n",
       "      <td>3</td>\n",
       "      <td>15664</td>\n",
       "      <td>358146.595773</td>\n",
       "    </tr>\n",
       "    <tr>\n",
       "      <td>4</td>\n",
       "      <td>14275</td>\n",
       "      <td>146019.477642</td>\n",
       "    </tr>\n",
       "  </tbody>\n",
       "</table>\n",
       "</div>"
      ],
      "text/plain": [
       "      Id          Price\n",
       "0    725  155506.666941\n",
       "1  15856  212746.398538\n",
       "2   5480  206650.235954\n",
       "3  15664  358146.595773\n",
       "4  14275  146019.477642"
      ]
     },
     "execution_count": 379,
     "metadata": {},
     "output_type": "execute_result"
    }
   ],
   "source": [
    "combine_preds = pd.DataFrame()\n",
    "combine_preds['Id'] = test_df['Id']\n",
    "combine_preds['Price'] = y_pred\n",
    "combine_preds.head()"
   ]
  },
  {
   "cell_type": "markdown",
   "metadata": {},
   "source": [
    "**Feature selection**"
   ]
  },
  {
   "cell_type": "markdown",
   "metadata": {},
   "source": [
    "Каждый узел в деревьях решений является условием для отдельного объекта, предназначенного для разделения набора данных на два, \n",
    "так чтобы аналогичные значения ответов оказались в одном наборе. Мера, на основе которой выбирается (локально) оптимальное \n",
    "условие, называется примесью. Для задач регрессии  это дисперсия. Таким образом, при обучении дерева можно вычислить, \n",
    "насколько каждый признак уменьшает взвешенную дисперсию в дереве. "
   ]
  },
  {
   "cell_type": "code",
   "execution_count": 328,
   "metadata": {},
   "outputs": [],
   "source": [
    "random_model = RandomForestRegressor(max_depth=28, max_features=5, n_estimators=700, random_state=42, n_jobs=-1)"
   ]
  },
  {
   "cell_type": "code",
   "execution_count": 329,
   "metadata": {},
   "outputs": [
    {
     "data": {
      "text/plain": [
       "RandomForestRegressor(bootstrap=True, criterion='mse', max_depth=28,\n",
       "                      max_features=5, max_leaf_nodes=None,\n",
       "                      min_impurity_decrease=0.0, min_impurity_split=None,\n",
       "                      min_samples_leaf=1, min_samples_split=2,\n",
       "                      min_weight_fraction_leaf=0.0, n_estimators=700, n_jobs=-1,\n",
       "                      oob_score=False, random_state=42, verbose=0,\n",
       "                      warm_start=False)"
      ]
     },
     "execution_count": 329,
     "metadata": {},
     "output_type": "execute_result"
    }
   ],
   "source": [
    "random_model.fit(train_df_scaled, train_df['Price'])"
   ]
  },
  {
   "cell_type": "code",
   "execution_count": 335,
   "metadata": {},
   "outputs": [
    {
     "data": {
      "image/png": "[encoded data removed]",
      "text/plain": [
       "<Figure size 1152x864 with 1 Axes>"
      ]
     },
     "metadata": {},
     "output_type": "display_data"
    }
   ],
   "source": [
    "importances = random_model.feature_importances_\n",
    "feature_imp = pd.Series(importances, index=feature_names)\n",
    "feature_imp.sort_values(ascending=True, inplace=True)\n",
    "\n",
    "feature_imp.plot(kind='barh', figsize=(16, 12), color='LightCoral');"
   ]
  },
  {
   "cell_type": "markdown",
   "metadata": {},
   "source": [
    "Получили некоторые слабо значимые признаки:\n",
    "    \n",
    "* **Ecology_2, Ecology_3** - экологические показатели местности\n",
    "* **Shops_2** - показатель, связанный с наличием магазинов, торговых центров"
   ]
  },
  {
   "cell_type": "code",
   "execution_count": 380,
   "metadata": {},
   "outputs": [],
   "source": [
    "selected_names = ['Rooms',\n",
    " 'Square',\n",
    " 'LifeSquare',\n",
    " 'KitchenSquare',\n",
    " 'Floor',\n",
    " 'HouseFloor',\n",
    " 'Ecology_1',\n",
    " #'Ecology_2',\n",
    " #'Ecology_3',\n",
    " 'Social_1',\n",
    " 'Social_2',\n",
    " 'Social_3',\n",
    " 'Healthcare_1',\n",
    " 'Helthcare_2',\n",
    " 'Shops_1',\n",
    " #'Shops_2',\n",
    " 'HouseAge',\n",
    " 'RoomSquare',\n",
    " 'LifeSquarePerSquare',\n",
    " 'KitchenSquareShare',\n",
    " 'KitchenSquarePerLifeSquare',\n",
    " 'UsefulSquare',\n",
    " 'TotalRoomSquare',\n",
    " 'KitchenRoomSquare',\n",
    " 'DistrictSize',\n",
    " 'PricePerRoomByDistrict',\n",
    " 'PricePerSquareByDistrict',\n",
    " 'KitchenSquareSharePriceByDistrict',\n",
    " 'KitchenSquarePerLifeSquarePriceByDistrict',\n",
    " 'PricePerLifeSquareByDistrict',\n",
    " 'PricePerKitchenSquareByDistrict',\n",
    " 'PricePerUsefulSquareByDistrict',\n",
    " 'RoomSquarePriceByDistrict',\n",
    " 'TotalRoomSquarePriceByDistrict',\n",
    " 'KitchenRoomSquarePriceByDistrict']"
   ]
  },
  {
   "cell_type": "markdown",
   "metadata": {},
   "source": [
    "Проведу обучение уже без этих признаков"
   ]
  },
  {
   "cell_type": "code",
   "execution_count": 382,
   "metadata": {},
   "outputs": [],
   "source": [
    "final_model = VotingRegressor([('model1', gb_model), ('model2', light_model), ('model3', xgb_model), ('model4', ctb_model)])"
   ]
  },
  {
   "cell_type": "code",
   "execution_count": 383,
   "metadata": {},
   "outputs": [
    {
     "name": "stdout",
     "output_type": "stream",
     "text": [
      "[16:17:19] WARNING: src/objective/regression_obj.cu:152: reg:linear is now deprecated in favor of reg:squarederror.\n",
      "[16:17:44] WARNING: src/objective/regression_obj.cu:152: reg:linear is now deprecated in favor of reg:squarederror.\n",
      "[16:18:07] WARNING: src/objective/regression_obj.cu:152: reg:linear is now deprecated in favor of reg:squarederror.\n",
      "[16:18:32] WARNING: src/objective/regression_obj.cu:152: reg:linear is now deprecated in favor of reg:squarederror.\n",
      "[16:18:56] WARNING: src/objective/regression_obj.cu:152: reg:linear is now deprecated in favor of reg:squarederror.\n",
      "[16:19:21] WARNING: src/objective/regression_obj.cu:152: reg:linear is now deprecated in favor of reg:squarederror.\n",
      "[16:19:44] WARNING: src/objective/regression_obj.cu:152: reg:linear is now deprecated in favor of reg:squarederror.\n",
      "[16:20:08] WARNING: src/objective/regression_obj.cu:152: reg:linear is now deprecated in favor of reg:squarederror.\n",
      "[16:20:32] WARNING: src/objective/regression_obj.cu:152: reg:linear is now deprecated in favor of reg:squarederror.\n",
      "[16:20:57] WARNING: src/objective/regression_obj.cu:152: reg:linear is now deprecated in favor of reg:squarederror.\n",
      "R2: 0.75995\n"
     ]
    }
   ],
   "source": [
    "evaluate_model(final_model, train_df[selected_names], train_df['Price'])"
   ]
  },
  {
   "cell_type": "markdown",
   "metadata": {},
   "source": [
    "Показатели действительно оказались слабо информативными, доля объяснённой дисперсии слегка возросла."
   ]
  },
  {
   "cell_type": "code",
   "execution_count": 384,
   "metadata": {},
   "outputs": [
    {
     "name": "stdout",
     "output_type": "stream",
     "text": [
      "[16:22:09] WARNING: src/objective/regression_obj.cu:152: reg:linear is now deprecated in favor of reg:squarederror.\n"
     ]
    },
    {
     "data": {
      "text/plain": [
       "VotingRegressor(estimators=[('model1',\n",
       "                             GradientBoostingRegressor(alpha=0.9,\n",
       "                                                       criterion='friedman_mse',\n",
       "                                                       init=None,\n",
       "                                                       learning_rate=0.1,\n",
       "                                                       loss='ls', max_depth=7,\n",
       "                                                       max_features=None,\n",
       "                                                       max_leaf_nodes=None,\n",
       "                                                       min_impurity_decrease=0.0,\n",
       "                                                       min_impurity_split=None,\n",
       "                                                       min_samples_leaf=1,\n",
       "                                                       min_samples_split=2,\n",
       "                                                       min_weight_fraction_leaf=0.0,\n",
       "                                                       n_estimators=100,\n",
       "                                                       n_iter_no_change=None,\n",
       "                                                       presor...\n",
       "                                          importance_type='gain',\n",
       "                                          learning_rate=0.1, max_delta_step=0,\n",
       "                                          max_depth=7, min_child_weight=1,\n",
       "                                          missing=None, n_estimators=100,\n",
       "                                          n_jobs=1, nthread=None,\n",
       "                                          objective='reg:linear',\n",
       "                                          random_state=42, reg_alpha=0,\n",
       "                                          reg_lambda=1, scale_pos_weight=1,\n",
       "                                          seed=None, silent=None, subsample=1,\n",
       "                                          verbosity=1)),\n",
       "                            ('model4',\n",
       "                             <catboost.core.CatBoostRegressor object at 0x000001C0B017EB08>)],\n",
       "                n_jobs=None, weights=None)"
      ]
     },
     "execution_count": 384,
     "metadata": {},
     "output_type": "execute_result"
    }
   ],
   "source": [
    "final_model.fit(train_df[selected_names], train_df['Price'])"
   ]
  },
  {
   "cell_type": "code",
   "execution_count": 386,
   "metadata": {},
   "outputs": [],
   "source": [
    "y_pred = final_model.predict(test_df[selected_names])"
   ]
  },
  {
   "cell_type": "code",
   "execution_count": 387,
   "metadata": {},
   "outputs": [
    {
     "data": {
      "text/html": [
       "<div>\n",
       "<style scoped>\n",
       "    .dataframe tbody tr th:only-of-type {\n",
       "        vertical-align: middle;\n",
       "    }\n",
       "\n",
       "    .dataframe tbody tr th {\n",
       "        vertical-align: top;\n",
       "    }\n",
       "\n",
       "    .dataframe thead th {\n",
       "        text-align: right;\n",
       "    }\n",
       "</style>\n",
       "<table border=\"1\" class=\"dataframe\">\n",
       "  <thead>\n",
       "    <tr style=\"text-align: right;\">\n",
       "      <th></th>\n",
       "      <th>Id</th>\n",
       "      <th>Price</th>\n",
       "    </tr>\n",
       "  </thead>\n",
       "  <tbody>\n",
       "    <tr>\n",
       "      <td>0</td>\n",
       "      <td>725</td>\n",
       "      <td>158262.933881</td>\n",
       "    </tr>\n",
       "    <tr>\n",
       "      <td>1</td>\n",
       "      <td>15856</td>\n",
       "      <td>212344.516384</td>\n",
       "    </tr>\n",
       "    <tr>\n",
       "      <td>2</td>\n",
       "      <td>5480</td>\n",
       "      <td>220593.293765</td>\n",
       "    </tr>\n",
       "    <tr>\n",
       "      <td>3</td>\n",
       "      <td>15664</td>\n",
       "      <td>359420.464059</td>\n",
       "    </tr>\n",
       "    <tr>\n",
       "      <td>4</td>\n",
       "      <td>14275</td>\n",
       "      <td>143810.831727</td>\n",
       "    </tr>\n",
       "  </tbody>\n",
       "</table>\n",
       "</div>"
      ],
      "text/plain": [
       "      Id          Price\n",
       "0    725  158262.933881\n",
       "1  15856  212344.516384\n",
       "2   5480  220593.293765\n",
       "3  15664  359420.464059\n",
       "4  14275  143810.831727"
      ]
     },
     "execution_count": 387,
     "metadata": {},
     "output_type": "execute_result"
    }
   ],
   "source": [
    "combine_preds = pd.DataFrame()\n",
    "combine_preds['Id'] = test_df['Id']\n",
    "combine_preds['Price'] = y_pred\n",
    "combine_preds.head()"
   ]
  },
  {
   "cell_type": "code",
   "execution_count": 388,
   "metadata": {},
   "outputs": [],
   "source": [
    "combine_preds.to_csv('gb_xgb_lgb_feat_lessprep', index=False)"
   ]
  }
 ],
 "metadata": {
  "kernelspec": {
   "display_name": "Python 3",
   "language": "python",
   "name": "python3"
  },
  "language_info": {
   "codemirror_mode": {
    "name": "ipython",
    "version": 3
   },
   "file_extension": ".py",
   "mimetype": "text/x-python",
   "name": "python",
   "nbconvert_exporter": "python",
   "pygments_lexer": "ipython3",
   "version": "3.7.4"
  }
 },
 "nbformat": 4,
 "nbformat_minor": 2
}
